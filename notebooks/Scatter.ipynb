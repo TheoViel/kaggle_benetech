{
 "cells": [
  {
   "cell_type": "markdown",
   "metadata": {},
   "source": [
    "**About** : This notebook is used to train detection models."
   ]
  },
  {
   "cell_type": "code",
   "execution_count": null,
   "metadata": {},
   "outputs": [],
   "source": [
    "# %load_ext nb_black\n",
    "%load_ext autoreload\n",
    "%autoreload 2"
   ]
  },
  {
   "cell_type": "code",
   "execution_count": null,
   "metadata": {},
   "outputs": [],
   "source": [
    "%matplotlib inline"
   ]
  },
  {
   "cell_type": "code",
   "execution_count": null,
   "metadata": {},
   "outputs": [],
   "source": [
    "cd ../src/"
   ]
  },
  {
   "cell_type": "markdown",
   "metadata": {},
   "source": [
    "## Initialization"
   ]
  },
  {
   "cell_type": "markdown",
   "metadata": {},
   "source": [
    "### Imports"
   ]
  },
  {
   "cell_type": "code",
   "execution_count": null,
   "metadata": {},
   "outputs": [],
   "source": [
    "import os\n",
    "os.environ['CUDA_VISIBLE_DEVICES'] = \"0\""
   ]
  },
  {
   "cell_type": "code",
   "execution_count": null,
   "metadata": {},
   "outputs": [],
   "source": [
    "import os\n",
    "import cv2\n",
    "import sys\n",
    "import ast\n",
    "import glob\n",
    "import json\n",
    "import yaml\n",
    "import shutil\n",
    "import warnings\n",
    "import numpy as np\n",
    "import pandas as pd\n",
    "import seaborn as sns\n",
    "import matplotlib.pyplot as plt\n",
    "\n",
    "from tqdm import tqdm\n",
    "\n",
    "warnings.filterwarnings(\"ignore\", category=UserWarning)\n",
    "pd.set_option('display.width', 500)\n",
    "pd.set_option('max_colwidth', 100)"
   ]
  },
  {
   "cell_type": "code",
   "execution_count": null,
   "metadata": {},
   "outputs": [],
   "source": [
    "from params import *\n",
    "from util.plots import *\n",
    "from inference.yolo import *\n",
    "from util.metrics import *\n",
    "\n",
    "from post_process.retrieve import retrieve_missing_boxes\n",
    "from post_process.reg import rounding, linear_regression\n",
    "from post_process.ticks import restrict_on_line, assign\n",
    "from post_process.in_graph import post_process_preds"
   ]
  },
  {
   "cell_type": "code",
   "execution_count": null,
   "metadata": {},
   "outputs": [],
   "source": [
    "VERSION = \"v3\""
   ]
  },
  {
   "cell_type": "markdown",
   "metadata": {},
   "source": [
    "### Load data"
   ]
  },
  {
   "cell_type": "code",
   "execution_count": null,
   "metadata": {},
   "outputs": [],
   "source": [
    "df = pd.read_csv('../input/df_train.csv')\n",
    "df_text = pd.read_csv('../input/texts.csv')\n",
    "df_target = pd.read_csv('../input/y_train.csv')\n",
    "df_elt = pd.read_csv('../input/elements.csv')"
   ]
  },
  {
   "cell_type": "code",
   "execution_count": null,
   "metadata": {},
   "outputs": [],
   "source": [
    "df = df[~df['id'].isin(ANOMALIES)].reset_index(drop=True)"
   ]
  },
  {
   "cell_type": "code",
   "execution_count": null,
   "metadata": {},
   "outputs": [],
   "source": [
    "df_split = pd.read_csv('../input/df_split.csv')\n",
    "df = df.merge(df_split)"
   ]
  },
  {
   "cell_type": "code",
   "execution_count": null,
   "metadata": {},
   "outputs": [],
   "source": [
    "# if VERSION == \"v2\":\n",
    "CLASSES = [\n",
    "    \"dot\",\n",
    "    \"line\",\n",
    "    \"scatter\",\n",
    "]\n",
    "\n",
    "df = df[df['chart-type'].isin(CLASSES)].reset_index(drop=True)"
   ]
  },
  {
   "cell_type": "markdown",
   "metadata": {},
   "source": [
    "### Model"
   ]
  },
  {
   "cell_type": "code",
   "execution_count": null,
   "metadata": {},
   "outputs": [],
   "source": [
    "class Config:\n",
    "    selected_model = \"yolo\"\n",
    "    bbox_format = \"yolo\"\n",
    "    pred_format = \"pascal_voc\"\n",
    "\n",
    "#     weights = \"/workspace/kaggle_benetech/logs/yolov7x-w6-v2.5/weights/best.pt\"\n",
    "    weights = \"/workspace/kaggle_benetech/logs/yolov7x-w6-v4./weights/last.pt\"\n",
    "\n",
    "#     size = (512, 512)\n",
    "    size = (640, 640)\n",
    "\n",
    "    # NMS\n",
    "    conf_thresh = [0.1, 0.4, 0.2, 0.5]  # todo : per class\n",
    "    max_per_img = 500\n",
    "    min_per_img = 0\n",
    "    iou_thresh = [0.5, 0.25, 0.25, 0.75]\n",
    "\n",
    "    val_bs = 16\n",
    "    device = \"cuda\""
   ]
  },
  {
   "cell_type": "code",
   "execution_count": null,
   "metadata": {},
   "outputs": [],
   "source": [
    "model = retrieve_model(Config)"
   ]
  },
  {
   "cell_type": "markdown",
   "metadata": {},
   "source": [
    "### Evaluate"
   ]
  },
  {
   "cell_type": "code",
   "execution_count": null,
   "metadata": {},
   "outputs": [],
   "source": [
    "chart_types = [\n",
    "#     \"dot\",\n",
    "#     \"line\",\n",
    "#     \"vertical_bar\",\n",
    "#     \"horizontal_bar\",\n",
    "    \"scatter\",\n",
    "]\n",
    "\n",
    "if VERSION == \"v1\":\n",
    "    classes = [\"x_text\", \"y_text\", \"x_tick\", \"y_tick\", \"point\", \"bar\"]\n",
    "else:\n",
    "    classes = ['chart', 'text', 'tick', 'point']"
   ]
  },
  {
   "cell_type": "code",
   "execution_count": null,
   "metadata": {},
   "outputs": [],
   "source": [
    "df_val = df[df['split'] == \"val\"].reset_index(drop=True)\n",
    "df_val['path'] = f'../input/{VERSION}/images/valid/' + df_val['id'] + '.jpg'\n",
    "df_val['gt_path'] = f'../input/{VERSION}/labels/valid/' + df_val['id'] + '.txt'\n",
    "df_val_ = df_val.copy()\n",
    "\n",
    "for t in chart_types:\n",
    "    print(f'\\n-> Chart type : {t}\\n')\n",
    "    df_val = df_val_[df_val_['chart-type'] == t].reset_index(drop=True)\n",
    "\n",
    "    transforms = get_transfos(size=Config.size)\n",
    "    dataset = InferenceDataset(df_val, transforms)\n",
    "    \n",
    "    meter = predict(model, dataset, Config)\n",
    "    for i, p in enumerate(meter.preds):\n",
    "        p.update_shape((df_val['img_h'][i], df_val['img_w'][i]))\n",
    "\n",
    "    scores = {c: [] for c in classes}\n",
    "    for idx in tqdm(range(len(dataset))):\n",
    "        img, gt, shape = dataset[idx]\n",
    "\n",
    "        gt = Boxes(gt, (shape[0], shape[1]), bbox_format=\"yolo\")['pascal_voc']\n",
    "        gt = [gt[dataset.classes[idx] == i] for i in range(len(classes))]\n",
    "        preds = [meter.preds[idx]['pascal_voc'][meter.labels[idx] == i] for i in range(len(classes))]\n",
    "        \n",
    "        preds = post_process_preds(preds)\n",
    "\n",
    "        for i, (t, p) in enumerate(zip(gt, preds)):\n",
    "            metrics = compute_metrics(p, t)\n",
    "            scores[classes[i]].append(metrics['f1_score'])\n",
    "    #         print(classes[i], metrics['f1_score'])\n",
    "    #     print()\n",
    "    #     if idx == 1:\n",
    "    #         break\n",
    "    for k, v in scores.items():\n",
    "        print(f'{k} \\t Avg F1: {np.mean(v):.3f}  \\t Avg F1==1: {np.mean(np.array(v) == 1):.3f}')\n",
    "#         break\n",
    "#     break"
   ]
  },
  {
   "cell_type": "code",
   "execution_count": null,
   "metadata": {},
   "outputs": [],
   "source": [
    "df_val = df[df['split'] == \"val\"].reset_index(drop=True)\n",
    "df_val['path'] = f'../input/{VERSION}/images/valid/' + df_val['id'] + '.jpg'\n",
    "df_val['gt_path'] = f'../input/{VERSION}/labels/valid/' + df_val['id'] + '.txt'\n",
    "df_val_ = df_val.copy()\n",
    "\n",
    "for t in chart_types:\n",
    "    print(f'\\n-> Chart type : {t}\\n')\n",
    "    df_val = df_val_[df_val_['chart-type'] == t].reset_index(drop=True)\n",
    "\n",
    "    transforms = get_transfos(size=Config.size)\n",
    "    dataset = InferenceDataset(df_val, transforms)\n",
    "    \n",
    "    meter = predict(model, dataset, Config)\n",
    "    for i, p in enumerate(meter.preds):\n",
    "        p.update_shape((df_val['img_h'][i], df_val['img_w'][i]))\n",
    "\n",
    "    scores = {c: [] for c in classes}\n",
    "    for idx in tqdm(range(len(dataset))):\n",
    "        img, gt, shape = dataset[idx]\n",
    "\n",
    "        gt = Boxes(gt, (shape[0], shape[1]), bbox_format=\"yolo\")['pascal_voc']\n",
    "        gt = [gt[dataset.classes[idx] == i] for i in range(len(classes))]\n",
    "        preds = [meter.preds[idx]['pascal_voc'][meter.labels[idx] == i] for i in range(len(classes))]\n",
    "        \n",
    "        preds = post_process_preds(preds)\n",
    "\n",
    "        for i, (t, p) in enumerate(zip(gt, preds)):\n",
    "            metrics = compute_metrics(p, t)\n",
    "            scores[classes[i]].append(metrics['f1_score'])\n",
    "    #         print(classes[i], metrics['f1_score'])\n",
    "    #     print()\n",
    "    #     if idx == 1:\n",
    "    #         break\n",
    "    for k, v in scores.items():\n",
    "        print(f'{k} \\t Avg F1: {np.mean(v):.3f}  \\t Avg F1==1: {np.mean(np.array(v) == 1):.3f}')\n",
    "#         break\n",
    "#     break"
   ]
  },
  {
   "cell_type": "markdown",
   "metadata": {},
   "source": [
    "### Predict\n",
    "- IoU per class\n",
    "- merge xticks and yticks (/labels)\n",
    "- train without bars"
   ]
  },
  {
   "cell_type": "code",
   "execution_count": null,
   "metadata": {},
   "outputs": [],
   "source": [
    "df_val = df[df['split'] == \"val\"].reset_index(drop=True)\n",
    "df_val['path'] = '../input/v1/images/valid/' + df_val['id'] + '.jpg'\n",
    "df_val['gt_path'] = '../input/v1/labels/valid/' + df_val['id'] + '.txt'"
   ]
  },
  {
   "cell_type": "code",
   "execution_count": null,
   "metadata": {},
   "outputs": [],
   "source": [
    "TYPES = [\n",
    "#     \"dot\",\n",
    "#     \"line\",\n",
    "#     \"vertical_bar\",\n",
    "#     \"horizontal_bar\",\n",
    "    \"scatter\",\n",
    "]\n",
    "\n",
    "df_val = df_val[df_val['chart-type'].isin(TYPES)].reset_index(drop=True)\n",
    "# df_val = df_val[df_val['source'] == \"extracted\"].reset_index(drop=True)"
   ]
  },
  {
   "cell_type": "code",
   "execution_count": null,
   "metadata": {},
   "outputs": [],
   "source": [
    "transforms = get_transfos(size=Config.size)\n",
    "dataset = InferenceDataset(df_val, transforms)"
   ]
  },
  {
   "cell_type": "code",
   "execution_count": null,
   "metadata": {},
   "outputs": [],
   "source": [
    "%%time\n",
    "meter = predict(model, dataset, Config)\n",
    "\n",
    "for i, p in enumerate(meter.preds):\n",
    "    p.update_shape((df_val['img_h'][i], df_val['img_w'][i]))"
   ]
  },
  {
   "cell_type": "code",
   "execution_count": null,
   "metadata": {},
   "outputs": [],
   "source": [
    "dataset = InferenceDataset(df_val, None)"
   ]
  },
  {
   "cell_type": "markdown",
   "metadata": {},
   "source": [
    "### OCR"
   ]
  },
  {
   "cell_type": "code",
   "execution_count": null,
   "metadata": {},
   "outputs": [],
   "source": [
    "import transformers\n",
    "transformers.utils.logging.set_verbosity_error()\n",
    "\n",
    "from transformers import TrOCRProcessor\n",
    "from transformers import VisionEncoderDecoderModel\n",
    "\n",
    "from util.boxes import expand_boxes\n",
    "from util.ocr import *"
   ]
  },
  {
   "cell_type": "code",
   "execution_count": null,
   "metadata": {},
   "outputs": [],
   "source": [
    "name = \"microsoft/trocr-base-stage1\"\n",
    "\n",
    "processor = TrOCRProcessor.from_pretrained(name)\n",
    "ocr_model = VisionEncoderDecoderModel.from_pretrained(name).cuda()"
   ]
  },
  {
   "cell_type": "code",
   "execution_count": null,
   "metadata": {},
   "outputs": [],
   "source": [
    "# x = np.exp(np.arange(-3, 3))\n",
    "# plt.plot(np.arange(-3, 3), x)\n",
    "# plt.yscale('log')\n",
    "# plt.grid()"
   ]
  },
  {
   "cell_type": "markdown",
   "metadata": {},
   "source": [
    "### Main\n",
    "- verify sim between dets\n",
    "- conv sim not robust to col  (#26)\n",
    "- 21 26 56 80 93 94"
   ]
  },
  {
   "cell_type": "code",
   "execution_count": null,
   "metadata": {},
   "outputs": [],
   "source": [
    "PLOT = False"
   ]
  },
  {
   "cell_type": "code",
   "execution_count": null,
   "metadata": {},
   "outputs": [],
   "source": [
    "scores = []\n",
    "for idx in range(len(dataset)):\n",
    "#     idx = 94\n",
    "#     PLOT = False\n",
    "    \n",
    "    img, gt, _ = dataset[idx]\n",
    "\n",
    "    id_ = df_val.id[idx]\n",
    "    \n",
    "    print(idx, id_, end=\"\\t\")\n",
    "    title = f\"{id_} - {df_val.source[idx]} {df_val['chart-type'][idx]}\"\n",
    "    \n",
    "    preds = [meter.preds[idx]['pascal_voc'][meter.labels[idx] == i] for i in range(len(classes))]\n",
    "    preds = post_process_preds(preds)\n",
    "    \n",
    "    if PLOT:\n",
    "        plot_results(img, preds, figsize=(12, 7), title=title)\n",
    "\n",
    "    margin = (img.shape[0] + img.shape[1]) / (2 * 20)\n",
    "    preds = restrict_on_line(preds, margin=margin)\n",
    "    \n",
    "    retrieved_boxes = retrieve_missing_boxes(preds, img, verbose=PLOT)\n",
    "\n",
    "    if len(retrieved_boxes):\n",
    "#         PLOT = True\n",
    "#         print(\"Retrieved\")\n",
    "#         if PLOT:\n",
    "#             plot_results(img, preds, figsize=(12, 7), title=title)\n",
    "            \n",
    "        preds[-1] = np.concatenate([preds[-1], retrieved_boxes])\n",
    "        \n",
    "    if PLOT:\n",
    "        plot_results(img, preds, figsize=(12, 7), title=title)\n",
    "#     PLOT = False\n",
    "#     break\n",
    "\n",
    "#     print('Target')\n",
    "#     display(df_target[df_target['id'] == df_val.id[idx]][[\"x\", \"y\"]])\n",
    "\n",
    "    # OCR\n",
    "    x_texts = ocr(ocr_model, processor, img, preds[1], margin=1, plot=PLOT)\n",
    "    x_values, x_errors = post_process_texts(x_texts)\n",
    "\n",
    "    if PLOT:\n",
    "        print(\"x labels :\", x_values, \" - errors:\", x_errors)\n",
    "#     print(x_values)\n",
    "#     print(preds[3])\n",
    "    \n",
    "    if len(preds[-1]):\n",
    "        reg_x = linear_regression(preds[3], x_values, x_errors, preds[-1], mode=\"x\", verbose=PLOT)\n",
    "\n",
    "        y_texts = ocr(ocr_model, processor, img, preds[2], margin=3, plot=PLOT)\n",
    "        y_values, y_errors = post_process_texts(y_texts)\n",
    "\n",
    "        if PLOT:\n",
    "             print(\"y labels :\", y_values, \" - errors:\", y_errors)\n",
    "\n",
    "        reg_y = linear_regression(preds[4], y_values, y_errors, preds[-1], mode=\"y\", verbose=PLOT)\n",
    "\n",
    "        gt = df_target[df_target['id'] == id_].reset_index(drop=True)\n",
    "        gt[[\"x\", \"y\"]] = gt[[\"x\", \"y\"]].astype(float)\n",
    "        gt = gt.sort_values(['x', 'y'], ignore_index=True)\n",
    "\n",
    "        reg_x = np.round(reg_x, rounding(np.max(reg_x)))\n",
    "        pred = pd.DataFrame({\"x\": reg_x, \"y\": reg_y})\n",
    "        pred = pred.sort_values(['x', 'y'], ignore_index=True)\n",
    "\n",
    "        score_x = score_series(gt['x'].values, pred['x'].values)\n",
    "        score_y = score_series(gt['y'].values, pred['y'].values)\n",
    "    else:\n",
    "        score_x, score_y = 0, 0\n",
    "\n",
    "    print(f\"Scores  -  x: {score_x:.3f}  - y: {score_y:.3f}\")\n",
    "    \n",
    "    scores += [score_x, score_y]\n",
    "    \n",
    "#     if score_x == 0 and score_y == 0:\n",
    "#         plot_results(img, preds, figsize=(12, 7), title=title)\n",
    "\n",
    "    if PLOT:\n",
    "        print('GT')\n",
    "        display(gt)\n",
    "        print('PRED')\n",
    "        display(pred)\n",
    "\n",
    "#     if idx >= 2:\n",
    "#     break"
   ]
  },
  {
   "cell_type": "code",
   "execution_count": null,
   "metadata": {},
   "outputs": [],
   "source": [
    "print(f'Scatter CV : {np.mean(scores) :.3f}')"
   ]
  },
  {
   "cell_type": "code",
   "execution_count": null,
   "metadata": {},
   "outputs": [],
   "source": [
    "print(f'Scatter CV : {np.mean(scores) :.3f}')"
   ]
  },
  {
   "cell_type": "markdown",
   "metadata": {},
   "source": [
    "Done ! "
   ]
  }
 ],
 "metadata": {
  "kernelspec": {
   "display_name": "Python 3 (ipykernel)",
   "language": "python",
   "name": "python3"
  },
  "language_info": {
   "codemirror_mode": {
    "name": "ipython",
    "version": 3
   },
   "file_extension": ".py",
   "mimetype": "text/x-python",
   "name": "python",
   "nbconvert_exporter": "python",
   "pygments_lexer": "ipython3",
   "version": "3.8.10"
  },
  "vscode": {
   "interpreter": {
    "hash": "f7241b2af102f7e024509099765066b36197b195077f7bfac6e5bc041ba17c8c"
   }
  }
 },
 "nbformat": 4,
 "nbformat_minor": 4
}
