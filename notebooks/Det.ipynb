{
 "cells": [
  {
   "cell_type": "markdown",
   "metadata": {},
   "source": [
    "**About** : This notebook is used to train detection models."
   ]
  },
  {
   "cell_type": "code",
   "execution_count": null,
   "metadata": {},
   "outputs": [],
   "source": [
    "# %load_ext nb_black\n",
    "%load_ext autoreload\n",
    "%autoreload 2"
   ]
  },
  {
   "cell_type": "code",
   "execution_count": null,
   "metadata": {},
   "outputs": [],
   "source": [
    "cd ../src/"
   ]
  },
  {
   "cell_type": "markdown",
   "metadata": {},
   "source": [
    "## Initialization"
   ]
  },
  {
   "cell_type": "markdown",
   "metadata": {},
   "source": [
    "### Imports"
   ]
  },
  {
   "cell_type": "code",
   "execution_count": null,
   "metadata": {},
   "outputs": [],
   "source": [
    "import os\n",
    "os.environ['CUDA_VISIBLE_DEVICES'] = \"-1\""
   ]
  },
  {
   "cell_type": "code",
   "execution_count": null,
   "metadata": {},
   "outputs": [],
   "source": [
    "import os\n",
    "import cv2\n",
    "import sys\n",
    "import ast\n",
    "import glob\n",
    "import json\n",
    "import yaml\n",
    "import shutil\n",
    "import warnings\n",
    "import numpy as np\n",
    "import pandas as pd\n",
    "import seaborn as sns\n",
    "import matplotlib.pyplot as plt\n",
    "\n",
    "from tqdm import tqdm\n",
    "\n",
    "pd.set_option('display.width', 500)\n",
    "pd.set_option('max_colwidth', 100)"
   ]
  },
  {
   "cell_type": "code",
   "execution_count": null,
   "metadata": {},
   "outputs": [],
   "source": [
    "from params import *\n",
    "from util.plots import plot_annotated_image, plot_sample\n",
    "from util.torch import seed_everything\n",
    "from util.yolo import extract_bboxes"
   ]
  },
  {
   "cell_type": "markdown",
   "metadata": {},
   "source": [
    "### Load data"
   ]
  },
  {
   "cell_type": "code",
   "execution_count": null,
   "metadata": {},
   "outputs": [],
   "source": [
    "df = pd.read_csv('../input/df_train.csv')\n",
    "df_text = pd.read_csv('../input/texts.csv')\n",
    "df_target = pd.read_csv('../input/y_train.csv')\n",
    "df_elt = pd.read_csv('../input/elements.csv')"
   ]
  },
  {
   "cell_type": "markdown",
   "metadata": {},
   "source": [
    "### Split"
   ]
  },
  {
   "cell_type": "code",
   "execution_count": null,
   "metadata": {},
   "outputs": [],
   "source": [
    "# SEED = 42\n",
    "# seed_everything(SEED)\n",
    "\n",
    "# split = {}\n",
    "# for i in range(len(df)):\n",
    "#     split[df['id'][i]] = \"train\"\n",
    "\n",
    "#     if df['source'][i] == \"extracted\":\n",
    "#         split[df['id'][i]] = \"val\"\n",
    "        \n",
    "#         if df['chart-type'][i] == \"horizontal_bar\":\n",
    "#             if np.random.random() > 0.3:\n",
    "#                 split[df['id'][i]] = \"train\"\n",
    "#     else:\n",
    "#         if df['chart-type'][i] == \"dot\":\n",
    "#             if np.random.random() < 0.2:\n",
    "#                 split[df['id'][i]] = \"val\"\n",
    "                \n",
    "# df_split = pd.DataFrame.from_dict(split, orient=\"index\").reset_index()\n",
    "# df_split.columns = ['id', 'split']\n",
    "# df_split.to_csv('../input/df_split.csv', index=False)"
   ]
  },
  {
   "cell_type": "markdown",
   "metadata": {},
   "source": [
    "## EDA"
   ]
  },
  {
   "cell_type": "code",
   "execution_count": null,
   "metadata": {},
   "outputs": [],
   "source": [
    "df_split = pd.read_csv('../input/df_split.csv')\n",
    "df = df.merge(df_split)\n",
    "\n",
    "sns.countplot(x=\"chart-type\", hue=\"split\", data=df)\n",
    "plt.yscale('log')\n",
    "plt.show()"
   ]
  },
  {
   "cell_type": "code",
   "execution_count": null,
   "metadata": {},
   "outputs": [],
   "source": [
    "sns.countplot(x=\"chart-type\", hue=\"source\", data=df)\n",
    "plt.yscale('log')\n",
    "plt.show()"
   ]
  },
  {
   "cell_type": "code",
   "execution_count": null,
   "metadata": {},
   "outputs": [],
   "source": [
    "# df[df['source'] != \"generated\"].head()\n",
    "# df.head()"
   ]
  },
  {
   "cell_type": "code",
   "execution_count": null,
   "metadata": {},
   "outputs": [],
   "source": [
    "ANOMALIES = [\n",
    "    # DUPLICATED STUFF\n",
    "    'ae686738e744', 'c76f6d0d5239', '760c3fa4e3d9', 'c0c1f4046222', '3e568d136b85', '913447978a74', '2ff071a45cce', 'a9a07d74ee31',\n",
    "    # MISSING or MISLABELED TICKS ANNOTS\n",
    "    \"36079df3b5b2\", \"3968efe9cbfc\", \"6ce4bc728dd5\", \"733b9b19e09a\", \"aa9df520a5f2\", \"d0cf883b1e13\",\n",
    "    # WEIRD\n",
    "    \"9f6b7c57e6cd\", \"e1034ff92655\", \"e796b10718bd\", \"f8bdbaf0b97d\", \"3ef41bbc82c3\", \"73cfbba65962\", \"872d1be39bae\", \"3ef41bbc82c3\"\n",
    "]"
   ]
  },
  {
   "cell_type": "code",
   "execution_count": null,
   "metadata": {},
   "outputs": [],
   "source": [
    "df = df[~df['id'].isin(ANOMALIES)].reset_index(drop=True)"
   ]
  },
  {
   "cell_type": "code",
   "execution_count": null,
   "metadata": {},
   "outputs": [],
   "source": [
    "file = \"0422a54ea13c\""
   ]
  },
  {
   "cell_type": "code",
   "execution_count": null,
   "metadata": {},
   "outputs": [],
   "source": [
    "# plt.figure(figsize=(13, 8))\n",
    "# plt.imshow(cv2.imread(f'../input/train/images/{file}.jpg'))\n",
    "# plt.axis(False)\n",
    "# plt.show()"
   ]
  },
  {
   "cell_type": "code",
   "execution_count": null,
   "metadata": {},
   "outputs": [],
   "source": [
    "# with open(f\"../input/train/annotations/{file}.json\") as annotation_f:\n",
    "#     annot = json.load(annotation_f)"
   ]
  },
  {
   "cell_type": "code",
   "execution_count": null,
   "metadata": {},
   "outputs": [],
   "source": [
    "fig = plot_annotated_image(file)"
   ]
  },
  {
   "cell_type": "markdown",
   "metadata": {},
   "source": [
    "## Yolo preparation"
   ]
  },
  {
   "cell_type": "markdown",
   "metadata": {},
   "source": [
    "### Folders"
   ]
  },
  {
   "cell_type": "code",
   "execution_count": null,
   "metadata": {},
   "outputs": [],
   "source": [
    "YOLO_PATH = '../yolov7/'\n",
    "DATA_PATH = '../input/'"
   ]
  },
  {
   "cell_type": "code",
   "execution_count": null,
   "metadata": {},
   "outputs": [],
   "source": [
    "labels = [\"x_text\", \"y_text\", \"x_tick\", \"y_tick\", \"point\", \"bar\"]\n",
    "label_dict = {k: i for i, k in enumerate(labels)}\n",
    "label_dict\n",
    "\n",
    "#(1) image file path\n",
    "yolo_train_img_dir = f'{DATA_PATH}/images/train/'\n",
    "yolo_valid_img_dir = f'{DATA_PATH}/images/valid/'\n",
    "\n",
    "#(2) label file path\n",
    "yolo_train_label_dir = f'{DATA_PATH}/labels/train/'\n",
    "yolo_valid_label_dir = f'{DATA_PATH}/labels/valid/'\n",
    "\n",
    "#(3) config file path\n",
    "yaml_file = f'{YOLO_PATH}/data.yaml'\n",
    "\n",
    "os.makedirs(yolo_train_img_dir, exist_ok=True)\n",
    "os.makedirs(yolo_valid_img_dir, exist_ok=True)\n",
    "os.makedirs(yolo_train_label_dir, exist_ok=True)\n",
    "os.makedirs(yolo_valid_label_dir, exist_ok=True)\n",
    "\n",
    "# shutil.rmtree(yolo_train_img_dir)\n",
    "# shutil.rmtree(yolo_valid_img_dir)\n",
    "# shutil.rmtree(yolo_train_label_dir)\n",
    "# shutil.rmtree(yolo_valid_label_dir)\n",
    "\n",
    "os.makedirs(yolo_train_img_dir, exist_ok=True)\n",
    "os.makedirs(yolo_valid_img_dir, exist_ok=True)\n",
    "os.makedirs(yolo_train_label_dir, exist_ok=True)\n",
    "os.makedirs(yolo_valid_label_dir, exist_ok=True)"
   ]
  },
  {
   "cell_type": "markdown",
   "metadata": {},
   "source": [
    "### Loop"
   ]
  },
  {
   "cell_type": "code",
   "execution_count": null,
   "metadata": {},
   "outputs": [],
   "source": [
    "df_text = df_text[~df_text['axis'].isna()].reset_index(drop=True)  # ignore titles"
   ]
  },
  {
   "cell_type": "code",
   "execution_count": null,
   "metadata": {},
   "outputs": [],
   "source": [
    "dfts = {}\n",
    "for id_, dfg in tqdm(df_text.groupby('chart_id')):\n",
    "    dfts[id_] = dfg.reset_index(drop=True)"
   ]
  },
  {
   "cell_type": "code",
   "execution_count": null,
   "metadata": {},
   "outputs": [],
   "source": [
    "dfes = {}\n",
    "for id_, dfg in tqdm(df_elt.groupby('chart_id')):\n",
    "    dfes[id_] = dfg.reset_index(drop=True)"
   ]
  },
  {
   "cell_type": "code",
   "execution_count": null,
   "metadata": {},
   "outputs": [],
   "source": [
    "PLOT = True\n",
    "SAVE = False"
   ]
  },
  {
   "cell_type": "code",
   "execution_count": null,
   "metadata": {},
   "outputs": [],
   "source": [
    "for i, (id_, dfg) in tqdm(enumerate(df.groupby('id')), total=len(df)):\n",
    "    \n",
    "    if \"bar\" in dfg['chart-type'].values[0]:\n",
    "        continue\n",
    "    \n",
    "#     id_ = \"3ef41bbc82c3\"\n",
    "#     dfg = df[df['id'] == id_]\n",
    "\n",
    "    img_file = f'../input/train/images/{id_}.jpg'\n",
    "    src = dfg['source'].values[0]\n",
    "    split = dfg['split'].values[0]\n",
    "\n",
    "    if split == 'train':\n",
    "        yolo_img_dir = yolo_train_img_dir\n",
    "        yolo_label_dir = yolo_train_label_dir\n",
    "    else:\n",
    "        yolo_img_dir = yolo_valid_img_dir\n",
    "        yolo_label_dir = yolo_valid_label_dir\n",
    "\n",
    "#     # Extract boxes\n",
    "    try:\n",
    "        dft = dfts[id_]\n",
    "        dfe = dfes[id_]\n",
    "    except KeyError:\n",
    "#         print(\"Error\")\n",
    "        continue\n",
    "    \n",
    "    if not SAVE:\n",
    "        boxes = extract_bboxes(dft, dfe, dfg['img_h'].values[0], dfg['img_w'].values[0])\n",
    "        \n",
    "#         bs = np.concatenate([b for b in boxes if len(b)])\n",
    "#         szs = bs[:, 2] * bs[:, 3] * dfg['img_h'].values[0] * dfg['img_w'].values[0]\n",
    "#         minsz = np.min(szs)\n",
    "#         if minsz > 10:\n",
    "#             continue\n",
    "#         print(id_)\n",
    "\n",
    "    else:\n",
    "        # Copy image\n",
    "        dst_file = f'{yolo_img_dir}/{id_}.jpg'\n",
    "        shutil.copyfile(img_file, dst_file)\n",
    "\n",
    "        # Save boxes\n",
    "        file_name = f'{yolo_label_dir}/{id_}.txt'\n",
    "        if not os.path.exists(file_name):\n",
    "            boxes = extract_bboxes(dft, dfe, dfg['img_h'].values[0], dfg['img_w'].values[0])\n",
    "\n",
    "            with open(file_name, 'w') as f:\n",
    "                for c, boxes_c in enumerate(boxes):\n",
    "                    for box in boxes_c:\n",
    "                        str_bbox = ' '.join([str(c)] + [f\"{b:.4g}\" for b in box])\n",
    "                        f.write(str_bbox)\n",
    "                        f.write('\\n')\n",
    "        else:\n",
    "            continue\n",
    "                \n",
    "    if PLOT or not (i % 10000):\n",
    "        img = cv2.imread(img_file)\n",
    "        plot_sample(img, boxes)\n",
    "        plt.title(f\"{id_} - {src} {dfg['chart-type'].values[0]}\")\n",
    "        plt.show()\n",
    "    \n",
    "#     if i >= 1:\n",
    "#     break"
   ]
  },
  {
   "cell_type": "markdown",
   "metadata": {},
   "source": [
    "### Model\n",
    "- WARNING: Extremely small objects found. 11577 of 2816497 labels are < 3 pixels in size."
   ]
  },
  {
   "cell_type": "code",
   "execution_count": null,
   "metadata": {},
   "outputs": [],
   "source": [
    "# Dump config file\n",
    "data_yaml = dict(\n",
    "    train=yolo_train_img_dir,\n",
    "    val=yolo_valid_img_dir,\n",
    "    nc=len(labels),\n",
    "    names=labels\n",
    ")\n",
    "\n",
    "with open(yaml_file, 'w') as outfile:\n",
    "    yaml.dump(data_yaml, outfile, default_flow_style=True)\n",
    "\n",
    "yaml_file"
   ]
  },
  {
   "cell_type": "markdown",
   "metadata": {},
   "source": [
    "Done ! "
   ]
  }
 ],
 "metadata": {
  "kernelspec": {
   "display_name": "Python 3 (ipykernel)",
   "language": "python",
   "name": "python3"
  },
  "language_info": {
   "codemirror_mode": {
    "name": "ipython",
    "version": 3
   },
   "file_extension": ".py",
   "mimetype": "text/x-python",
   "name": "python",
   "nbconvert_exporter": "python",
   "pygments_lexer": "ipython3",
   "version": "3.8.10"
  },
  "vscode": {
   "interpreter": {
    "hash": "f7241b2af102f7e024509099765066b36197b195077f7bfac6e5bc041ba17c8c"
   }
  }
 },
 "nbformat": 4,
 "nbformat_minor": 4
}
