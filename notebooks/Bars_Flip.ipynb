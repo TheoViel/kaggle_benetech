{
 "cells": [
  {
   "cell_type": "markdown",
   "metadata": {},
   "source": [
    "**About** : This notebook is used to train detection models."
   ]
  },
  {
   "cell_type": "code",
   "execution_count": null,
   "metadata": {},
   "outputs": [],
   "source": [
    "# %load_ext nb_black\n",
    "%load_ext autoreload\n",
    "%autoreload 2"
   ]
  },
  {
   "cell_type": "code",
   "execution_count": null,
   "metadata": {},
   "outputs": [],
   "source": [
    "cd ../src/"
   ]
  },
  {
   "cell_type": "markdown",
   "metadata": {},
   "source": [
    "## Initialization"
   ]
  },
  {
   "cell_type": "markdown",
   "metadata": {},
   "source": [
    "### Imports"
   ]
  },
  {
   "cell_type": "code",
   "execution_count": null,
   "metadata": {},
   "outputs": [],
   "source": [
    "import os\n",
    "os.environ['CUDA_VISIBLE_DEVICES'] = \"-1\""
   ]
  },
  {
   "cell_type": "code",
   "execution_count": null,
   "metadata": {},
   "outputs": [],
   "source": [
    "import os\n",
    "import cv2\n",
    "import sys\n",
    "import ast\n",
    "import glob\n",
    "import json\n",
    "import yaml\n",
    "import shutil\n",
    "import warnings\n",
    "import numpy as np\n",
    "import pandas as pd\n",
    "import seaborn as sns\n",
    "import matplotlib.pyplot as plt\n",
    "\n",
    "from tqdm import tqdm\n",
    "from PIL import Image, ImageDraw, ImageOps\n",
    "\n",
    "pd.set_option('display.width', 500)\n",
    "pd.set_option('max_colwidth', 100)"
   ]
  },
  {
   "cell_type": "code",
   "execution_count": null,
   "metadata": {},
   "outputs": [],
   "source": [
    "from params import *\n",
    "from util.plots import plot_annotated_image, plot_sample\n",
    "from util.torch import seed_everything\n",
    "from util.yolo import *"
   ]
  },
  {
   "cell_type": "markdown",
   "metadata": {},
   "source": [
    "### Load data"
   ]
  },
  {
   "cell_type": "code",
   "execution_count": null,
   "metadata": {},
   "outputs": [],
   "source": [
    "df = pd.read_csv('../input/df_train.csv')\n",
    "df_text = pd.read_csv('../input/texts.csv')\n",
    "df_target = pd.read_csv('../input/y_train.csv')\n",
    "df_elt = pd.read_csv('../input/elements.csv')"
   ]
  },
  {
   "cell_type": "markdown",
   "metadata": {},
   "source": [
    "## EDA"
   ]
  },
  {
   "cell_type": "code",
   "execution_count": null,
   "metadata": {},
   "outputs": [],
   "source": [
    "ANOMALIES = [\n",
    "    # DUPLICATED STUFF\n",
    "    'ae686738e744', 'c76f6d0d5239', '760c3fa4e3d9', 'c0c1f4046222', '3e568d136b85', '913447978a74', '2ff071a45cce', 'a9a07d74ee31',\n",
    "    # MISSING or MISLABELED TICKS ANNOTS\n",
    "    \"36079df3b5b2\", \"3968efe9cbfc\", \"6ce4bc728dd5\", \"733b9b19e09a\", \"aa9df520a5f2\", \"d0cf883b1e13\", \"fa91f20f277d\",\n",
    "    # WEIRD\n",
    "    \"9f6b7c57e6cd\", \"e1034ff92655\", \"e796b10718bd\", \"f8bdbaf0b97d\", \"3ef41bbc82c3\", \"73cfbba65962\", \"872d1be39bae\", \"3ef41bbc82c3\"\n",
    "]"
   ]
  },
  {
   "cell_type": "code",
   "execution_count": null,
   "metadata": {},
   "outputs": [],
   "source": [
    "df = df[~df['id'].isin(ANOMALIES)].reset_index(drop=True)"
   ]
  },
  {
   "cell_type": "code",
   "execution_count": null,
   "metadata": {},
   "outputs": [],
   "source": [
    "df = df[df['chart-type'] == \"vertical_bar\"].reset_index(drop=True)"
   ]
  },
  {
   "cell_type": "markdown",
   "metadata": {},
   "source": [
    "### Tools"
   ]
  },
  {
   "cell_type": "code",
   "execution_count": null,
   "metadata": {},
   "outputs": [],
   "source": [
    "from PIL import Image, ImageDraw, ImageOps\n",
    "\n",
    "def remove_polygon(image, x, y):\n",
    "    try:\n",
    "        image = Image.fromarray(image)\n",
    "    except:\n",
    "        pass\n",
    "    \n",
    "    # hide previous\n",
    "    background = image.getpixel((np.min(x), np.min(y)))\n",
    "    draw = ImageDraw.Draw(image)\n",
    "    draw.polygon([(x[0], y[0]), (x[1], y[1]), (x[2], y[2]), (x[3], y[3])], fill=background)\n",
    "    \n",
    "    return image, background"
   ]
  },
  {
   "cell_type": "code",
   "execution_count": null,
   "metadata": {},
   "outputs": [],
   "source": [
    "from PIL import Image, ImageDraw, ImageOps\n",
    "\n",
    "def flip_polygon_vertically(image, x, y, image_before):\n",
    "    try:\n",
    "        image = Image.fromarray(image)\n",
    "    except:\n",
    "        pass\n",
    "    \n",
    "    # Create a blank mask with the same size as the image\n",
    "    mask = Image.new('L', image.size, 0)\n",
    "    draw = ImageDraw.Draw(mask)\n",
    "    draw.polygon([(x[0], y[0]), (x[1], y[1]), (x[2], y[2]), (x[3], y[3])], fill=255)\n",
    "#     mask.show()\n",
    "\n",
    "    # Flip\n",
    "    mid_point = y[np.argmax(x)]\n",
    "    start_y, end_y = np.min(y), np.max(y)\n",
    "    flipped = np.array(image_before)\n",
    "    flipped[start_y : end_y] = flipped[start_y : end_y][::-1]\n",
    "    flipped = Image.fromarray(flipped)\n",
    "    \n",
    "    mask_flipped = np.array(mask)\n",
    "    mask_flipped[start_y : end_y] = mask_flipped[start_y : end_y][::-1]\n",
    "    mask_flipped = Image.fromarray(mask_flipped)\n",
    "    \n",
    "    # hide previous\n",
    "    background = image.getpixel((np.min(x), start_y))\n",
    "    draw = ImageDraw.Draw(image)\n",
    "    draw.polygon([(x[0], y[0]), (x[1], y[1]), (x[2], y[2]), (x[3], y[3])], fill=background)\n",
    "    \n",
    "    # Combine the flipped content and the original image using the mask\n",
    "    combined_image = Image.composite(image, flipped, ImageOps.invert(mask_flipped))\n",
    "    return combined_image, background"
   ]
  },
  {
   "cell_type": "code",
   "execution_count": null,
   "metadata": {},
   "outputs": [],
   "source": [
    "def move_polygon_up(image, x, y, pixels):\n",
    "    # Open the image\n",
    "    try:\n",
    "        image = Image.fromarray(image)\n",
    "    except:\n",
    "        pass\n",
    "    \n",
    "    # Create a blank mask with the same size as the image\n",
    "    moved_image = Image.new('RGB', image.size)\n",
    "    draw = ImageDraw.Draw(moved_image)\n",
    "    moved_image.paste(image, (0, 0))\n",
    "    \n",
    "    # Create a mask for the polygon region\n",
    "    mask = Image.new('L', image.size, 0)\n",
    "    draw_mask = ImageDraw.Draw(mask)\n",
    "    draw_mask.polygon([(x[0], y[0]), (x[1], y[1]), (x[2], y[2]), (x[3], y[3])], fill=255)\n",
    "    \n",
    "    # Move the content inside the polygon by the specified number of pixels\n",
    "    region = image.crop((min(x), min(y), max(x), max(y)))\n",
    "    \n",
    "    background = image.getpixel((np.max(x), np.max(y)))\n",
    "    white_region = Image.new('RGB', region.size, background)\n",
    "    moved_image.paste(white_region, (min(x), min(y)), mask=mask.crop((min(x), min(y), max(x), max(y))))\n",
    "    \n",
    "    moved_image.paste(region, (min(x), min(y) - pixels), mask=mask.crop((min(x), min(y), max(x), max(y))))\n",
    "    return moved_image, background"
   ]
  },
  {
   "cell_type": "code",
   "execution_count": null,
   "metadata": {},
   "outputs": [],
   "source": [
    "from PIL import Image, ImageDraw, ImageOps\n",
    "\n",
    "def copy_polygon(image, x, y, new_x, image_before):\n",
    "\n",
    "    # Create a blank mask with the same size as the image\n",
    "    mask = Image.new('L', image.size, 0)\n",
    "    draw = ImageDraw.Draw(mask)\n",
    "    draw.polygon([(x[0], y[0]), (x[1], y[1]), (x[2], y[2]), (x[3], y[3])], fill=255)\n",
    "#     mask.show()\n",
    "\n",
    "    # Flip\n",
    "    mid_point = y[np.argmax(x)]\n",
    "    start_y, end_y = np.min(y), np.max(y)\n",
    "    flipped = np.array(image_before)\n",
    "    flipped[start_y : end_y] = flipped[start_y : end_y][::-1]\n",
    "    flipped = Image.fromarray(flipped)\n",
    "    \n",
    "    mask_flipped = np.array(mask)\n",
    "    mask_flipped[start_y : end_y] = mask_flipped[start_y : end_y][::-1]\n",
    "    mask_flipped = Image.fromarray(mask_flipped)\n",
    "    \n",
    "    # hide previous\n",
    "    background = image.getpixel((np.min(x), start_y))\n",
    "    draw = ImageDraw.Draw(image)\n",
    "    draw.polygon([(x[0], y[0]), (x[1], y[1]), (x[2], y[2]), (x[3], y[3])], fill=background)\n",
    "    \n",
    "    # Combine the flipped content and the original image using the mask\n",
    "    combined_image = Image.composite(image, flipped, ImageOps.invert(mask_flipped))\n",
    "    return combined_image, background"
   ]
  },
  {
   "cell_type": "code",
   "execution_count": null,
   "metadata": {},
   "outputs": [],
   "source": [
    "from PIL import Image, ImageDraw, ImageOps\n",
    "\n",
    "def flip_polygon_vertically_and_shift(image, x, y, image_before, shift=0):\n",
    "    # Create a blank mask with the same size as the image\n",
    "    mask = Image.new('L', image.size, 0)\n",
    "    draw = ImageDraw.Draw(mask)\n",
    "    draw.polygon([(x[0], y[0]), (x[1], y[1]), (x[2], y[2]), (x[3], y[3])], fill=255)\n",
    "#     mask.show()\n",
    "\n",
    "    # Flip\n",
    "    mid_point = y[np.argmax(x)]\n",
    "    start_y, end_y = np.min(y), np.max(y)\n",
    "    flipped = np.array(image_before)\n",
    "    flipped[start_y : end_y] = flipped[start_y : end_y][::-1]\n",
    "    flipped = Image.fromarray(flipped)\n",
    "    \n",
    "    mask_flipped = np.array(mask)\n",
    "    mask_flipped[start_y : end_y] = mask_flipped[start_y : end_y][::-1]\n",
    "    mask_flipped = Image.fromarray(mask_flipped)\n",
    "    \n",
    "    # Combine the flipped content and the original image using the mask\n",
    "    if not shift:\n",
    "        combined_image = Image.composite(image, flipped, ImageOps.invert(mask_flipped))\n",
    "        return combined_image\n",
    "    \n",
    "#     print(mask_flipped.getextrema())\n",
    "#     print(mask_flipped.max())\n",
    "    \n",
    "#     mask_flipped.show()\n",
    "#     flipped.show()\n",
    "    \n",
    "    shifted_flipped_image = Image.new('RGB', flipped.size)\n",
    "    shifted_flipped_image.paste(flipped, (0, -shift))\n",
    "    \n",
    "#     shifted_flipped_image.show()\n",
    "\n",
    "    shifted_mask_flipped = Image.new('L', mask_flipped.size)\n",
    "    shifted_mask_flipped.paste(mask_flipped, (0, -shift))\n",
    "    \n",
    "#     shifted_mask_flipped.show()\n",
    "    \n",
    "    combined_image = Image.composite(\n",
    "        image, shifted_flipped_image, ImageOps.invert(shifted_mask_flipped)\n",
    "    )\n",
    "    \n",
    "    return combined_image"
   ]
  },
  {
   "cell_type": "code",
   "execution_count": null,
   "metadata": {},
   "outputs": [],
   "source": [
    "def flip_vertical_bar(image, annot):\n",
    "#     issue = False\n",
    "    # Rotate 90\n",
    "    image = cv2.rotate(image, 0)\n",
    "    image = image[::-1]\n",
    "    \n",
    "    h, w = image.shape[:2]\n",
    "    \n",
    "    image_old = Image.fromarray(image)\n",
    "    image_nopoly = Image.fromarray(image)\n",
    "    image = Image.fromarray(image)\n",
    "    \n",
    "    # Bars\n",
    "    new_bars = []\n",
    "    for bar in annot['visual-elements']['bars']:\n",
    "        bar['height'], bar['width'] = bar['width'], bar['height']\n",
    "        bar['x0'], bar['y0'] = w - bar['y0'] - bar['width'], h - bar['x0'] - bar['height']\n",
    "        new_bars.append(bar)\n",
    "    annot['visual-elements']['bars'] = new_bars\n",
    "    \n",
    "    # xticks\n",
    "    new_xticks = []\n",
    "    for ticks in annot['axes']['x-axis']['ticks']:\n",
    "        ticks['tick_pt']['x'], ticks['tick_pt']['y'] = w - ticks['tick_pt']['y'], h - ticks['tick_pt']['x']\n",
    "        new_xticks.append(ticks)\n",
    "    \n",
    "    # yticks\n",
    "    new_yticks = []\n",
    "    for ticks in annot['axes']['y-axis']['ticks']:\n",
    "        ticks['tick_pt']['x'], ticks['tick_pt']['y'] = w - ticks['tick_pt']['y'], h - ticks['tick_pt']['x']\n",
    "        new_yticks.append(ticks)\n",
    "\n",
    "    annot['axes']['y-axis']['ticks'] = new_xticks\n",
    "    annot['axes']['x-axis']['ticks'] = new_yticks\n",
    "    \n",
    "    # Image with no texts\n",
    "    for txt in annot[\"text\"][::-1]:\n",
    "        poly = {\n",
    "            'x0': w - txt['polygon']['y0'],\n",
    "            'x1': w - txt['polygon']['y1'],\n",
    "            'x2': w - txt['polygon']['y2'],\n",
    "            'x3': w - txt['polygon']['y3'],\n",
    "            'y0': h - txt['polygon']['x0'],\n",
    "            'y1': h - txt['polygon']['x1'],\n",
    "            'y2': h - txt['polygon']['x2'],\n",
    "            'y3': h - txt['polygon']['x3'],\n",
    "        }\n",
    "        xs = np.array([poly['x0'], poly['x1'], poly['x2'], poly['x3']])\n",
    "        ys = np.array([poly['y0'], poly['y1'], poly['y2'], poly['y3']])\n",
    "        \n",
    "        image_nopoly, bg = remove_polygon(image_nopoly, xs, ys)\n",
    "        \n",
    "        if np.mean(bg) < 200:\n",
    "            return None\n",
    "#             issue = True\n",
    "\n",
    "    new_txts = []\n",
    "    for txt in annot[\"text\"]:\n",
    "        txt['polygon'] = {\n",
    "            'x0': w - txt['polygon']['y0'],\n",
    "            'x1': w - txt['polygon']['y1'],\n",
    "            'x2': w - txt['polygon']['y2'],\n",
    "            'x3': w - txt['polygon']['y3'],\n",
    "            'y0': h - txt['polygon']['x0'],\n",
    "            'y1': h - txt['polygon']['x1'],\n",
    "            'y2': h - txt['polygon']['x2'],\n",
    "            'y3': h - txt['polygon']['x3'],\n",
    "        }\n",
    "        xs = np.array([txt['polygon']['x0'], txt['polygon']['x1'], txt['polygon']['x2'], txt['polygon']['x3']])\n",
    "        ys = np.array([txt['polygon']['y0'], txt['polygon']['y1'], txt['polygon']['y2'], txt['polygon']['y3']])\n",
    "        \n",
    "        delta = 0\n",
    "        if txt[\"text\"] in [k['x'] for k in annot['data-series']]:  # SHIFT\n",
    "            center = int((ys.max() + ys.min()) / 2)\n",
    "            ys_after = center - (ys - center)\n",
    "\n",
    "            tick = [t for t in new_xticks if t[\"id\"] == txt[\"id\"]][0]\n",
    "            tgt_y = tick['tick_pt']['y']\n",
    "            \n",
    "            rotated = len(np.unique(xs)) == 4\n",
    "            if not rotated:\n",
    "                delta = 0\n",
    "            else:\n",
    "                y_avg = np.sort(ys_after)[-2:].mean()\n",
    "                delta = int(y_avg - tgt_y)\n",
    "                if delta > ys.min() + 5:\n",
    "                    return None\n",
    "                    \n",
    "#         print(delta)\n",
    "\n",
    "        image_nopoly = flip_polygon_vertically_and_shift(image_nopoly, xs, ys, image_old, shift=delta)\n",
    "\n",
    "        center = int((ys.max() + ys.min()) / 2)\n",
    "        txt['polygon'] = {\n",
    "            'x0': txt['polygon']['x0'],\n",
    "            'x1': txt['polygon']['x1'],\n",
    "            'x2': txt['polygon']['x2'],\n",
    "            'x3': txt['polygon']['x3'],\n",
    "            'y0': center - (txt['polygon']['y0'] - center) - delta,\n",
    "            'y1': center - (txt['polygon']['y1'] - center) - delta,\n",
    "            'y2': center - (txt['polygon']['y2'] - center) - delta,\n",
    "            'y3': center - (txt['polygon']['y3'] - center) - delta,\n",
    "        }\n",
    "        new_txts.append(txt)\n",
    "    annot['text'] = new_txts\n",
    "    image = image_nopoly\n",
    "\n",
    "    # Chart\n",
    "    bar = annot['plot-bb']\n",
    "    bar['height'], bar['width'] = bar['width'], bar['height']\n",
    "    bar['x0'], bar['y0'] = w - bar['y0'] - bar['width'], h - bar['x0'] - bar['height']\n",
    "    annot['plot-bb'] = bar\n",
    "    \n",
    "    # Upscale\n",
    "    img = np.array(image)\n",
    "    img_upscale = 255 * np.ones((h, w * 3, 3), dtype=np.uint8)\n",
    "    m = 5\n",
    "#     print(img.shape, img_upscale.shape)\n",
    "    img_upscale[:, :bar['x0'] - m] = img[:, :bar['x0'] - m]\n",
    "    \n",
    "    chart = img[bar['y0'] - m: bar['y0'] + bar['height'] + m:, bar['x0'] - m: bar['x0'] + bar['width']+ m:]\n",
    "    chart = cv2.resize(\n",
    "        chart,\n",
    "        (3 * (2 * m + bar['width']), 2 * m + bar['height'])\n",
    "    )\n",
    "    img_upscale[bar['y0'] - m : bar['y0'] - m + chart.shape[0], bar['x0'] - m: bar['x0'] - m + chart.shape[1]] = chart\n",
    "    \n",
    "    x_max = 0\n",
    "    start = bar['x0'] - m\n",
    "    for txt in annot[\"text\"]:\n",
    "        xs = np.array([txt['polygon']['x0'], txt['polygon']['x1'], txt['polygon']['x2'], txt['polygon']['x3']])\n",
    "        ys = np.array([txt['polygon']['y0'], txt['polygon']['y1'], txt['polygon']['y2'], txt['polygon']['y3']])\n",
    "        \n",
    "        x = xs.min()\n",
    "        if xs.mean() > start:\n",
    "            new_x = int(xs.min() - xs.mean() + start + (xs.mean() - start) * 3)\n",
    "            w = xs.max() - xs.min()\n",
    "            img_upscale[np.min(ys): np.max(ys), new_x : new_x + w] = img[np.min(ys): np.max(ys), x : x + w]\n",
    "            \n",
    "            x_max = max(new_x + w, x_max)\n",
    "            txt[\"polygon\"].update({\n",
    "                'x0': txt['polygon']['x0'] - x + new_x,\n",
    "                'x1': txt['polygon']['x1'] - x + new_x,\n",
    "                'x2': txt['polygon']['x2'] - x + new_x,\n",
    "                'x3': txt['polygon']['x3'] - x + new_x,\n",
    "            })\n",
    "            \n",
    "    img_upscale = img_upscale[:, :x_max + 20]\n",
    "    \n",
    "    taken = np.zeros(img_upscale.shape)\n",
    "    for txt in annot[\"text\"]:\n",
    "        xs = np.array([txt['polygon']['x0'], txt['polygon']['x1'], txt['polygon']['x2'], txt['polygon']['x3']])\n",
    "        ys = np.array([txt['polygon']['y0'], txt['polygon']['y1'], txt['polygon']['y2'], txt['polygon']['y3']])\n",
    "    \n",
    "        if xs.mean() > start:\n",
    "            if \"title\" in txt['role']:\n",
    "                continue\n",
    "\n",
    "            x1, w = xs.max() + 1, xs.max() - xs.min()\n",
    "            y0, h = ys.min() - 1, ys.max() - ys.min()\n",
    "            hw = int(max(w, h)) + 2\n",
    "            \n",
    "            crop = img_upscale[y0: y0 + hw, x1 - hw: x1]\n",
    "            crop = np.rot90(crop)\n",
    "            img_upscale[y0: y0 + hw, x1 - hw: x1] = crop\n",
    "            taken[y0: y0 + hw, x1 - hw: x1] += 1\n",
    "            \n",
    "    if taken.max() > 1:\n",
    "        return None\n",
    "#     print(taken.max())\n",
    "    \n",
    "    # Title\n",
    "    txt = annot[\"text\"][0]\n",
    "    xs = np.array([txt['polygon']['x0'], txt['polygon']['x1'], txt['polygon']['x2'], txt['polygon']['x3']])\n",
    "    \n",
    "    title = img_upscale[:, xs.min() - m : xs.max() + m]\n",
    "    img_upscale = img_upscale[:, :xs.min() - m]\n",
    "\n",
    "    title = np.rot90(title)\n",
    "#     print(title.shape, img_upscale.shape)\n",
    "    \n",
    "    title_ph = 255 * np.ones((title.shape[0], img_upscale.shape[1], 3), dtype=np.uint8)\n",
    "    \n",
    "    mid = title_ph.shape[1] // 2\n",
    "    title_ph[:, mid - title.shape[1] // 2: mid - title.shape[1] // 2 + title.shape[1]] = title\n",
    "\n",
    "    img_upscale = np.concatenate([title_ph, img_upscale], 0)\n",
    "    img_upscale = Image.fromarray(img_upscale)\n",
    "#     img_upscale.show()\n",
    "\n",
    "    return img_upscale  # , annot, issue"
   ]
  },
  {
   "cell_type": "markdown",
   "metadata": {},
   "source": [
    "### Example"
   ]
  },
  {
   "cell_type": "code",
   "execution_count": null,
   "metadata": {},
   "outputs": [],
   "source": [
    "file = \"00261ed70def\""
   ]
  },
  {
   "cell_type": "code",
   "execution_count": null,
   "metadata": {},
   "outputs": [],
   "source": [
    "img = Image.open(f\"../input/train/images/{file}.jpg\")\n",
    "with open(f\"../input/train/annotations/{file}.json\") as annotation_f:\n",
    "    annot = json.load(annotation_f)"
   ]
  },
  {
   "cell_type": "code",
   "execution_count": null,
   "metadata": {},
   "outputs": [],
   "source": [
    "# fig = plot_annotated_image(file, img=img, annot=annot)"
   ]
  },
  {
   "cell_type": "code",
   "execution_count": null,
   "metadata": {},
   "outputs": [],
   "source": [
    "img = flip_vertical_bar(np.array(img), annot)"
   ]
  },
  {
   "cell_type": "code",
   "execution_count": null,
   "metadata": {},
   "outputs": [],
   "source": [
    "# fig = plot_annotated_image(file, img=img, annot=annot)"
   ]
  },
  {
   "cell_type": "markdown",
   "metadata": {},
   "source": [
    "### Flip"
   ]
  },
  {
   "cell_type": "code",
   "execution_count": null,
   "metadata": {},
   "outputs": [],
   "source": [
    "PLOT = True\n",
    "SAVE = False"
   ]
  },
  {
   "cell_type": "code",
   "execution_count": null,
   "metadata": {},
   "outputs": [],
   "source": [
    "labels = [\"chart\", \"text\", \"tick\", \"point\"]\n",
    "\n",
    "for i, (id_, dfg) in tqdm(enumerate(df.groupby('id')), total=len(df)):    \n",
    "#     id_ = 'e93bed1228d6'\n",
    "#     dfg = df[df['id'] == id_]\n",
    "    \n",
    "    img = Image.open(f\"../input/train/images/{id_}.jpg\")\n",
    "    with open(f\"../input/train/annotations/{id_}.json\") as annotation_f:\n",
    "        annot = json.load(annotation_f)\n",
    "\n",
    "    img_r = flip_vertical_bar(np.array(img), annot)\n",
    "\n",
    "    if (PLOT or not (i % 10000)) and img_r is not None:\n",
    "        print(id_)\n",
    "        img.show()\n",
    "        img_r.show()\n",
    "#         break\n",
    "\n",
    "    if i >= 10:\n",
    "        break"
   ]
  },
  {
   "cell_type": "markdown",
   "metadata": {},
   "source": [
    "Done ! "
   ]
  }
 ],
 "metadata": {
  "kernelspec": {
   "display_name": "Python 3 (ipykernel)",
   "language": "python",
   "name": "python3"
  },
  "language_info": {
   "codemirror_mode": {
    "name": "ipython",
    "version": 3
   },
   "file_extension": ".py",
   "mimetype": "text/x-python",
   "name": "python",
   "nbconvert_exporter": "python",
   "pygments_lexer": "ipython3",
   "version": "3.8.10"
  },
  "vscode": {
   "interpreter": {
    "hash": "f7241b2af102f7e024509099765066b36197b195077f7bfac6e5bc041ba17c8c"
   }
  }
 },
 "nbformat": 4,
 "nbformat_minor": 4
}
