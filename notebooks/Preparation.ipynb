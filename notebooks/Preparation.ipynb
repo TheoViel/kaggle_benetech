{
 "cells": [
  {
   "cell_type": "markdown",
   "metadata": {},
   "source": [
    "**About** : This notebook is used to train models."
   ]
  },
  {
   "cell_type": "code",
   "execution_count": null,
   "metadata": {},
   "outputs": [],
   "source": [
    "# %load_ext nb_black\n",
    "%load_ext autoreload\n",
    "%autoreload 2"
   ]
  },
  {
   "cell_type": "code",
   "execution_count": null,
   "metadata": {},
   "outputs": [],
   "source": [
    "cd ../src/"
   ]
  },
  {
   "cell_type": "markdown",
   "metadata": {},
   "source": [
    "## Initialization"
   ]
  },
  {
   "cell_type": "markdown",
   "metadata": {},
   "source": [
    "### Imports"
   ]
  },
  {
   "cell_type": "code",
   "execution_count": null,
   "metadata": {},
   "outputs": [],
   "source": [
    "import os\n",
    "import sys\n",
    "import cv2\n",
    "import glob\n",
    "import json\n",
    "import numpy as np\n",
    "import pandas as pd\n",
    "import seaborn as sns\n",
    "import matplotlib.pyplot as plt\n",
    "\n",
    "from tqdm import tqdm\n",
    "\n",
    "pd.set_option('display.width', 500)\n",
    "pd.set_option('max_colwidth', 100)"
   ]
  },
  {
   "cell_type": "markdown",
   "metadata": {},
   "source": [
    "## Processing"
   ]
  },
  {
   "cell_type": "code",
   "execution_count": null,
   "metadata": {},
   "outputs": [],
   "source": [
    "def get_annotations(annotations_path: str = \"../input/train/annotations\") -> pd.DataFrame:\n",
    "    \"\"\"\n",
    "    Loads and returns a pandas DataFrame containing all annotations found at the given path.\n",
    "\n",
    "    Args:\n",
    "        annotations_path (str): Path to the directory containing the annotations.\n",
    "        \n",
    "    Returns:\n",
    "        pd.DataFrame: A pandas DataFrame containing the annotations.\n",
    "    \"\"\"\n",
    "    annotations = []\n",
    "    for annotation_path in tqdm(os.listdir(annotations_path)):\n",
    "        with open(f\"{annotations_path}/{annotation_path}\") as annotation_f:\n",
    "            annots = json.load(annotation_f)\n",
    "            annots['id'] = annotation_path[:-5]\n",
    "            annotations.append(annots)\n",
    "            \n",
    "    df = pd.DataFrame(annotations)\n",
    "    df = df[['id', 'source', 'chart-type', 'plot-bb', 'text', 'axes', 'data-series', 'visual-elements']]\n",
    "    return df"
   ]
  },
  {
   "cell_type": "code",
   "execution_count": null,
   "metadata": {},
   "outputs": [],
   "source": [
    "df = get_annotations()"
   ]
  },
  {
   "cell_type": "code",
   "execution_count": null,
   "metadata": {},
   "outputs": [],
   "source": [
    "# df = df[df['id'] == \"e4cf7f5f6be6\"]"
   ]
  },
  {
   "cell_type": "code",
   "execution_count": null,
   "metadata": {},
   "outputs": [],
   "source": [
    "# for i, e in tqdm(enumerate(df['visual-elements'].values)):\n",
    "#     if sum([len(e[k]) > 0 for k in e]) != 1:\n",
    "#         print( sum([len(e[k]) for k in e]))\n",
    "#         print(i, e)\n",
    "#         break"
   ]
  },
  {
   "cell_type": "code",
   "execution_count": null,
   "metadata": {},
   "outputs": [],
   "source": [
    "sns.countplot(x=\"chart-type\", hue=\"source\", data=df)\n",
    "plt.yscale('log')\n",
    "plt.show()"
   ]
  },
  {
   "cell_type": "markdown",
   "metadata": {},
   "source": [
    "### Process columns"
   ]
  },
  {
   "cell_type": "code",
   "execution_count": null,
   "metadata": {},
   "outputs": [],
   "source": [
    "df['plot_x0'] = df['plot-bb'].apply(lambda x: x['x0'])\n",
    "df['plot_y0'] = df['plot-bb'].apply(lambda x: x['y0'])\n",
    "df['plot_h'] = df['plot-bb'].apply(lambda x: x['height'])\n",
    "df['plot_w'] = df['plot-bb'].apply(lambda x: x['width'])"
   ]
  },
  {
   "cell_type": "code",
   "execution_count": null,
   "metadata": {},
   "outputs": [],
   "source": [
    "df['x_axis'] = df['axes'].apply(lambda x: x['x-axis'])\n",
    "df['y_axis'] = df['axes'].apply(lambda x: x['y-axis'])\n",
    "\n",
    "df['x_ticks_type'] = df['x_axis'].apply(lambda x: x['tick-type'])\n",
    "df['x_values_type'] = df['x_axis'].apply(lambda x: x['values-type'])\n",
    "df['y_ticks_type'] = df['y_axis'].apply(lambda x: x['tick-type'])\n",
    "df['y_values_type'] = df['y_axis'].apply(lambda x: x['values-type'])\n",
    "\n",
    "df['x_ticks'] = df['x_axis'].apply(lambda x: x['ticks'])\n",
    "df['y_ticks'] = df['y_axis'].apply(lambda x: x['ticks'])"
   ]
  },
  {
   "cell_type": "code",
   "execution_count": null,
   "metadata": {},
   "outputs": [],
   "source": [
    "df.head(2)"
   ]
  },
  {
   "cell_type": "markdown",
   "metadata": {},
   "source": [
    "### Visual elements"
   ]
  },
  {
   "cell_type": "code",
   "execution_count": null,
   "metadata": {},
   "outputs": [],
   "source": [
    "df['elements_type'] = df['visual-elements'].apply(lambda x: [k for k in x if len(x[k])][0])"
   ]
  },
  {
   "cell_type": "code",
   "execution_count": null,
   "metadata": {},
   "outputs": [],
   "source": [
    "df['visual-elements'] = df.apply(lambda x: x['visual-elements'][x.elements_type], axis=1)"
   ]
  },
  {
   "cell_type": "code",
   "execution_count": null,
   "metadata": {},
   "outputs": [],
   "source": [
    "# df['visual-elements'] = df['visual-elements'].apply(lambda x: [k for k in x if len(k)])\n",
    "df['visual-elements'] = df['visual-elements'].apply(lambda x: x[0] if ((len(x) == 1) and isinstance(x[0], list)) else x)\n",
    "\n",
    "ANOMALIES = [\n",
    "    # DUPLICATED LINES\n",
    "    'ae686738e744', 'c76f6d0d5239', '760c3fa4e3d9', 'c0c1f4046222', '3e568d136b85', '913447978a74', '2ff071a45cce', 'a9a07d74ee31',\n",
    "    # MISSING ANNOTS\n",
    "]\n",
    "\n",
    "df['visual-elements'] = df['visual-elements'].apply(lambda x: x[0] if isinstance(x[0], list) else x)"
   ]
  },
  {
   "cell_type": "code",
   "execution_count": null,
   "metadata": {},
   "outputs": [],
   "source": [
    "# df['nve'] = df['visual-elements'].apply(len)"
   ]
  },
  {
   "cell_type": "code",
   "execution_count": null,
   "metadata": {},
   "outputs": [],
   "source": [
    "df_elt = df[['id', 'visual-elements']].explode('visual-elements').reset_index(drop=True)\n",
    "\n",
    "df_elt = df_elt.rename(columns={\"id\": \"chart_id\"})"
   ]
  },
  {
   "cell_type": "code",
   "execution_count": null,
   "metadata": {},
   "outputs": [],
   "source": [
    "df_elt['x'] = df_elt['visual-elements'].apply(lambda x: x.get('x', np.nan))\n",
    "df_elt['y'] = df_elt['visual-elements'].apply(lambda x: x.get('y', np.nan))\n",
    "\n",
    "df_elt['x0'] = df_elt['visual-elements'].apply(lambda x: x.get('x0', np.nan))\n",
    "df_elt['y0'] = df_elt['visual-elements'].apply(lambda x: x.get('y0', np.nan))\n",
    "df_elt['h'] = df_elt['visual-elements'].apply(lambda x: x.get('height', np.nan))\n",
    "df_elt['w'] = df_elt['visual-elements'].apply(lambda x: x.get('width', np.nan))"
   ]
  },
  {
   "cell_type": "code",
   "execution_count": null,
   "metadata": {},
   "outputs": [],
   "source": [
    "df_elt.drop('visual-elements', axis=1, inplace=True)"
   ]
  },
  {
   "cell_type": "code",
   "execution_count": null,
   "metadata": {},
   "outputs": [],
   "source": [
    "df_elt.head(2)"
   ]
  },
  {
   "cell_type": "markdown",
   "metadata": {},
   "source": [
    "### Texts & ticks"
   ]
  },
  {
   "cell_type": "code",
   "execution_count": null,
   "metadata": {},
   "outputs": [],
   "source": [
    "df_text = df[['id', 'text']].explode('text').reset_index(drop=True)\n",
    "\n",
    "df_text = df_text.rename(columns={\"id\": \"chart_id\"})\n",
    "\n",
    "df_text['id'] = df_text['text'].apply(lambda x: x['id'])\n",
    "df_text[\"polygon\"] = df_text['text'].apply(lambda x: x['polygon'])\n",
    "df_text['text'] = df_text['text'].apply(lambda x: x['text'])\n",
    "\n",
    "df_text[\"polygon\"] = df_text[\"polygon\"].apply(lambda x: list(x.values()))\n",
    "df_text[['x0','x1', 'x2', 'x3', 'y0', 'y1', 'y2', 'y3']] = pd.DataFrame(df_text.polygon.tolist(), index=df_text.index)\n",
    "df_text.drop(\"polygon\", axis=1, inplace=True)"
   ]
  },
  {
   "cell_type": "code",
   "execution_count": null,
   "metadata": {},
   "outputs": [],
   "source": [
    "df_text['x_min'] = df_text[['x0','x1', 'x2', 'x3']].values.min(1)\n",
    "df_text['x_max'] = df_text[['x0','x1', 'x2', 'x3']].values.max(1)\n",
    "df_text['y_min'] = df_text[['y0','y1', 'y2', 'y3']].values.min(1)\n",
    "df_text['y_max'] = df_text[['y0','y1', 'y2', 'y3']].values.max(1)"
   ]
  },
  {
   "cell_type": "code",
   "execution_count": null,
   "metadata": {},
   "outputs": [],
   "source": [
    "df_x_ticks = df[['id', 'x_ticks']].explode('x_ticks').rename(columns={\"x_ticks\": \"ticks\"})\n",
    "df_x_ticks['axis'] = \"x\"\n",
    "\n",
    "df_y_ticks = df[['id', 'y_ticks']].explode('y_ticks').rename(columns={\"y_ticks\": \"ticks\"})\n",
    "df_y_ticks['axis'] = \"y\"\n",
    "\n",
    "df_ticks = pd.concat([df_x_ticks, df_y_ticks], ignore_index=True)\n",
    "\n",
    "df_ticks = df_ticks.rename(columns={\"id\": \"chart_id\"})\n",
    "\n",
    "df_ticks['id'] = df_ticks['ticks'].apply(lambda x: x['id'] if isinstance(x, dict) else np.nan)\n",
    "df_ticks['x'] = df_ticks['ticks'].apply(lambda x: x['tick_pt']['x'] if isinstance(x, dict) else np.nan)\n",
    "df_ticks['y'] = df_ticks['ticks'].apply(lambda x: x['tick_pt']['y'] if isinstance(x, dict) else np.nan)\n",
    "\n",
    "df_ticks = df_ticks.dropna(axis=0)\n",
    "df_ticks['id'] = df_ticks['id'].astype(int)\n",
    "df_ticks = df_ticks.drop(\"ticks\", axis=1)"
   ]
  },
  {
   "cell_type": "code",
   "execution_count": null,
   "metadata": {},
   "outputs": [],
   "source": [
    "df_text = df_text.merge(df_ticks, on=['chart_id', \"id\"], how=\"left\")"
   ]
  },
  {
   "cell_type": "code",
   "execution_count": null,
   "metadata": {},
   "outputs": [],
   "source": [
    "df_text.head(2)"
   ]
  },
  {
   "cell_type": "markdown",
   "metadata": {},
   "source": [
    "### Target"
   ]
  },
  {
   "cell_type": "code",
   "execution_count": null,
   "metadata": {},
   "outputs": [],
   "source": [
    "df_target = df[['id', 'data-series']].explode('data-series').reset_index(drop=True)"
   ]
  },
  {
   "cell_type": "code",
   "execution_count": null,
   "metadata": {},
   "outputs": [],
   "source": [
    "df_target['x'] = df_target['data-series'].apply(lambda x: x['x'])\n",
    "df_target['y'] = df_target['data-series'].apply(lambda x: x['y'])"
   ]
  },
  {
   "cell_type": "code",
   "execution_count": null,
   "metadata": {},
   "outputs": [],
   "source": [
    "df_target.drop('data-series', axis=1, inplace=True)"
   ]
  },
  {
   "cell_type": "code",
   "execution_count": null,
   "metadata": {},
   "outputs": [],
   "source": [
    "# df_target[df_target['y'].isna()]"
   ]
  },
  {
   "cell_type": "code",
   "execution_count": null,
   "metadata": {},
   "outputs": [],
   "source": [
    "# histograms = [\"6447c2a5e487\", \"a613be731d61\",  \"60923b97d2b5\",  \"4163f70a77b3\",  \"9affc9b7cb76\", \"62a5fe77db68\", \"353fab6e4d7a\",  \"8e71f5f4f2d2\",  \"c25da96d5aaf\",  \"6771e4a4fab5\"]\n",
    "# df[df['id'].isin(histograms)]['data-series'][2851]"
   ]
  },
  {
   "cell_type": "code",
   "execution_count": null,
   "metadata": {},
   "outputs": [],
   "source": [
    "df_target.head()"
   ]
  },
  {
   "cell_type": "markdown",
   "metadata": {},
   "source": [
    "### Finalize"
   ]
  },
  {
   "cell_type": "code",
   "execution_count": null,
   "metadata": {},
   "outputs": [],
   "source": [
    "df = df.drop([\"plot-bb\", 'text', \"axes\", \"x_axis\", \"y_axis\", \"x_ticks\", \"y_ticks\", \"data-series\", \"visual-elements\"], axis=1)"
   ]
  },
  {
   "cell_type": "code",
   "execution_count": null,
   "metadata": {},
   "outputs": [],
   "source": [
    "df.to_csv('../input/df_train.csv', index=False)\n",
    "df_text.to_csv('../input/texts.csv', index=False)\n",
    "df_target.to_csv('../input/y_train.csv', index=False)\n",
    "df_elt.to_csv('../input/elements.csv', index=False)"
   ]
  },
  {
   "cell_type": "code",
   "execution_count": null,
   "metadata": {},
   "outputs": [],
   "source": [
    "df.head(1)"
   ]
  },
  {
   "cell_type": "code",
   "execution_count": null,
   "metadata": {},
   "outputs": [],
   "source": [
    "df_elt.head(1)"
   ]
  },
  {
   "cell_type": "code",
   "execution_count": null,
   "metadata": {},
   "outputs": [],
   "source": [
    "df_text.head(1)"
   ]
  },
  {
   "cell_type": "code",
   "execution_count": null,
   "metadata": {},
   "outputs": [],
   "source": [
    "df_target.head(1)"
   ]
  },
  {
   "cell_type": "markdown",
   "metadata": {},
   "source": [
    "### Image shape"
   ]
  },
  {
   "cell_type": "code",
   "execution_count": null,
   "metadata": {},
   "outputs": [],
   "source": [
    "heights, widths = [], []\n",
    "\n",
    "for i in tqdm(range(len(df))):\n",
    "    file = df['id'].values[i]\n",
    "    img = cv2.imread(f'../input/train/images/{file}.jpg')\n",
    "    \n",
    "    h, w, _ = img.shape\n",
    "    \n",
    "    heights.append(h)\n",
    "    widths.append(w)\n",
    "#     break"
   ]
  },
  {
   "cell_type": "code",
   "execution_count": null,
   "metadata": {},
   "outputs": [],
   "source": [
    "df['img_h'] = heights\n",
    "df['img_w'] = widths\n",
    "df.to_csv('../input/df_train.csv', index=False)"
   ]
  },
  {
   "cell_type": "code",
   "execution_count": null,
   "metadata": {},
   "outputs": [],
   "source": [
    "df.head()"
   ]
  },
  {
   "cell_type": "markdown",
   "metadata": {},
   "source": [
    "Done ! "
   ]
  }
 ],
 "metadata": {
  "kernelspec": {
   "display_name": "Python 3 (ipykernel)",
   "language": "python",
   "name": "python3"
  },
  "language_info": {
   "codemirror_mode": {
    "name": "ipython",
    "version": 3
   },
   "file_extension": ".py",
   "mimetype": "text/x-python",
   "name": "python",
   "nbconvert_exporter": "python",
   "pygments_lexer": "ipython3",
   "version": "3.8.10"
  },
  "vscode": {
   "interpreter": {
    "hash": "f7241b2af102f7e024509099765066b36197b195077f7bfac6e5bc041ba17c8c"
   }
  }
 },
 "nbformat": 4,
 "nbformat_minor": 4
}
