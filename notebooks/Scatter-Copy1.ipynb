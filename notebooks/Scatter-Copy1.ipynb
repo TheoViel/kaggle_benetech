{
 "cells": [
  {
   "cell_type": "markdown",
   "metadata": {},
   "source": [
    "**About** : This notebook is used to train detection models."
   ]
  },
  {
   "cell_type": "code",
   "execution_count": 1,
   "metadata": {},
   "outputs": [],
   "source": [
    "# %load_ext nb_black\n",
    "%load_ext autoreload\n",
    "%autoreload 2"
   ]
  },
  {
   "cell_type": "code",
   "execution_count": 2,
   "metadata": {},
   "outputs": [],
   "source": [
    "%matplotlib inline"
   ]
  },
  {
   "cell_type": "code",
   "execution_count": 3,
   "metadata": {},
   "outputs": [
    {
     "name": "stdout",
     "output_type": "stream",
     "text": [
      "/workspace/kaggle_benetech/src\n"
     ]
    }
   ],
   "source": [
    "cd ../src/"
   ]
  },
  {
   "cell_type": "markdown",
   "metadata": {},
   "source": [
    "## Initialization"
   ]
  },
  {
   "cell_type": "markdown",
   "metadata": {},
   "source": [
    "### Imports"
   ]
  },
  {
   "cell_type": "code",
   "execution_count": 4,
   "metadata": {},
   "outputs": [],
   "source": [
    "import os\n",
    "os.environ['CUDA_VISIBLE_DEVICES'] = \"1\""
   ]
  },
  {
   "cell_type": "code",
   "execution_count": 5,
   "metadata": {},
   "outputs": [],
   "source": [
    "import os\n",
    "import cv2\n",
    "import sys\n",
    "import ast\n",
    "import glob\n",
    "import json\n",
    "import yaml\n",
    "import shutil\n",
    "import warnings\n",
    "import numpy as np\n",
    "import pandas as pd\n",
    "import seaborn as sns\n",
    "import matplotlib.pyplot as plt\n",
    "\n",
    "from tqdm import tqdm\n",
    "\n",
    "warnings.filterwarnings(\"ignore\", category=UserWarning)\n",
    "pd.set_option('display.width', 500)\n",
    "pd.set_option('max_colwidth', 100)"
   ]
  },
  {
   "cell_type": "code",
   "execution_count": 30,
   "metadata": {},
   "outputs": [],
   "source": [
    "from params import *\n",
    "\n",
    "from inference.yolox import retrieve_yolox_model, predict, YoloXWrapper\n",
    "from inference.utils import get_transfos, InferenceDataset\n",
    "from inference.yolo import retrieve_model_robust\n",
    "\n",
    "from util.plots import *\n",
    "from util.metrics import *\n",
    "from util.torch import seed_everything\n",
    "from util.boxes import Boxes\n",
    "\n",
    "from post_process.retrieve import retrieve_missing_boxes  #, retrieve_missing_boxes_2\n",
    "from post_process.remove import remove_outlier_boxes\n",
    "from post_process.reg import rounding, linear_regression\n",
    "from post_process.ticks import restrict_on_line, assign\n",
    "from post_process.in_graph import post_process_preds"
   ]
  },
  {
   "cell_type": "markdown",
   "metadata": {},
   "source": [
    "### Load data"
   ]
  },
  {
   "cell_type": "code",
   "execution_count": 14,
   "metadata": {},
   "outputs": [],
   "source": [
    "df = pd.read_csv('../input/df_train.csv')\n",
    "df_target = pd.read_csv('../input/y_train.csv')"
   ]
  },
  {
   "cell_type": "code",
   "execution_count": 15,
   "metadata": {},
   "outputs": [],
   "source": [
    "df = df[~df['id'].isin(ANOMALIES)].reset_index(drop=True)"
   ]
  },
  {
   "cell_type": "code",
   "execution_count": 16,
   "metadata": {},
   "outputs": [],
   "source": [
    "df_split = pd.read_csv('../input/df_split.csv')\n",
    "df = df.merge(df_split)"
   ]
  },
  {
   "cell_type": "code",
   "execution_count": 17,
   "metadata": {},
   "outputs": [],
   "source": [
    "CLASSES = [\n",
    "#     \"dot\",\n",
    "#     \"line\",\n",
    "    \"scatter\",\n",
    "]\n",
    "\n",
    "df = df[df['chart-type'].isin(CLASSES)].reset_index(drop=True)"
   ]
  },
  {
   "cell_type": "markdown",
   "metadata": {},
   "source": [
    "### Model"
   ]
  },
  {
   "cell_type": "code",
   "execution_count": 18,
   "metadata": {},
   "outputs": [],
   "source": [
    "class ConfigChart:\n",
    "    selected_model = \"yolo\"\n",
    "    bbox_format = \"yolo\"\n",
    "    pred_format = \"pascal_voc\"\n",
    "\n",
    "    weights = \"/workspace/kaggle_benetech/logs/yolov7x-w6-v8.2/weights/last.pt\"\n",
    "    version = \"v8\"\n",
    "    labels = ['chart', 'text', 'tick', 'point']\n",
    "\n",
    "    weights = '../output/weights/det_2/yolov7x-w6-v8.2_weights.pt'\n",
    "    cfg = \"../output/weights/det_2/yolov7x-w6-v8.2_cfg.yml\"\n",
    "#     labels = ['chart', 'text', 'tick']\n",
    "\n",
    "#     size = (512, 512)\n",
    "#     size = (640, 640)\n",
    "    size = (1024, 1024)\n",
    "\n",
    "    # NMS\n",
    "    conf_thresh = [0.1, 0.4, 0.2, 0.2]\n",
    "    iou_thresh = [0.5, 0.25, 0.25, 0.25]\n",
    "#     conf_thresh = [0.1, 0.4, 0.2, 0.001]\n",
    "#     iou_thresh = [0.5, 0.25, 0.25, 0.5]\n",
    "\n",
    "    max_per_img = 500\n",
    "    min_per_img = 0\n",
    "\n",
    "    val_bs = 1\n",
    "    device = \"cuda\"\n",
    "    \n",
    "config_chart = ConfigChart"
   ]
  },
  {
   "cell_type": "code",
   "execution_count": 19,
   "metadata": {},
   "outputs": [],
   "source": [
    "assert os.path.exists(config_chart.weights), \"Weights do not exist\"\n",
    "model_chart = retrieve_model_robust(config_chart)"
   ]
  },
  {
   "cell_type": "code",
   "execution_count": 52,
   "metadata": {},
   "outputs": [],
   "source": [
    "class ConfigMarker:\n",
    "    selected_model = \"yolo\"\n",
    "    bbox_format = \"yolo\"\n",
    "    pred_format = \"pascal_voc\"\n",
    "    \n",
    "    name = \"benetech_2_l_1\"\n",
    "    cp = \"latest_ckpt.pth\"\n",
    "    \n",
    "#     version = \"v11_sim\"\n",
    "    version = \"v13_sim\"\n",
    "    labels = [\"point\"]\n",
    "\n",
    "    size = (1024, 1024)\n",
    "\n",
    "    # NMS\n",
    "    conf_thresh = 0.6\n",
    "    iou_thresh = 0.3\n",
    "    max_per_img = 500\n",
    "    min_per_img = 1\n",
    "    \n",
    "    val_bs = 1  # if size[0] > 1024 else 16\n",
    "    device = \"cuda\"\n",
    "    \n",
    "config_marker = ConfigMarker"
   ]
  },
  {
   "cell_type": "code",
   "execution_count": 53,
   "metadata": {},
   "outputs": [],
   "source": [
    "# FOLDER = \"../output/weights/det_2/\"\n",
    "# name = config_marker.weights.split('/')[-3]\n",
    "\n",
    "# cp = torch.load(config_marker.weights)\n",
    "\n",
    "# import yaml\n",
    "# with open(FOLDER + name + '_cfg.yml', 'w') as outfile:\n",
    "#     yaml.dump(cp['model'].yaml, outfile)\n",
    "    \n",
    "# from util.torch import save_model_weights\n",
    "# torch.save(cp['model'].state_dict(), FOLDER + name + \"_weights.pt\")\n",
    "\n",
    "# print('-> Saved config to', FOLDER + name + '_cfg.yml')\n",
    "# print('-> Saved weight to', FOLDER + name + '_weights.pt')"
   ]
  },
  {
   "cell_type": "code",
   "execution_count": 54,
   "metadata": {},
   "outputs": [
    {
     "name": "stdout",
     "output_type": "stream",
     "text": [
      " -> Loading weights from ../yolox/YOLOX_outputs/benetech_2_l_1/latest_ckpt.pth\n"
     ]
    }
   ],
   "source": [
    "model_marker = retrieve_yolox_model(config_marker.name, cp=config_marker.cp)\n",
    "model_marker = YoloXWrapper(model_marker, config_marker)"
   ]
  },
  {
   "cell_type": "markdown",
   "metadata": {},
   "source": [
    "### Evaluate"
   ]
  },
  {
   "cell_type": "code",
   "execution_count": 55,
   "metadata": {},
   "outputs": [],
   "source": [
    "chart_types = [\n",
    "#     \"dot\",\n",
    "#     \"line\",\n",
    "#     \"vertical_bar\",\n",
    "#     \"horizontal_bar\",\n",
    "    \"scatter\",\n",
    "]"
   ]
  },
  {
   "cell_type": "code",
   "execution_count": 56,
   "metadata": {},
   "outputs": [
    {
     "name": "stdout",
     "output_type": "stream",
     "text": [
      "\n",
      "-> Chart type : scatter\n",
      "\n"
     ]
    },
    {
     "name": "stderr",
     "output_type": "stream",
     "text": [
      "100%|██████████| 165/165 [00:04<00:00, 38.35it/s]"
     ]
    },
    {
     "name": "stdout",
     "output_type": "stream",
     "text": [
      "point \t Avg F1: 0.933  \t Avg F1==1: 0.515\tAvg Recall==1: 0.600\n"
     ]
    },
    {
     "name": "stderr",
     "output_type": "stream",
     "text": [
      "\n"
     ]
    }
   ],
   "source": [
    "df_val = df[df['split'] == \"val\"].reset_index(drop=True)\n",
    "df_val['path'] = f'../input/{config_marker.version}/val2017/' + df_val['id'] + '.jpg'\n",
    "df_val['gt_path'] = f'../input/{config_marker.version}/labels/valid/' + df_val['id'] + '.txt'\n",
    "df_val_ = df_val.copy()\n",
    "\n",
    "for t in chart_types:\n",
    "    print(f'\\n-> Chart type : {t}\\n')\n",
    "    df_val = df_val_[df_val_['chart-type'] == t].reset_index(drop=True)\n",
    "    \n",
    "#     df_val = df_val.iloc[[21]].reset_index(drop=True)\n",
    "\n",
    "    transforms = get_transfos(size=config_marker.size)\n",
    "    dataset = InferenceDataset(df_val, transforms)\n",
    "    \n",
    "    meter, _ = predict(model_marker, dataset, config_marker, extract_fts=False)\n",
    "        \n",
    "    for i, p in enumerate(meter.preds):\n",
    "        p.update_shape((df_val['img_h'][i], df_val['img_w'][i]))\n",
    "\n",
    "    f1s = {c: [] for c in config_marker.labels}\n",
    "    recalls = {c: [] for c in config_marker.labels}\n",
    "    for idx in tqdm(range(len(dataset))):\n",
    "        img, gt, shape = dataset[idx]\n",
    "\n",
    "        gt = Boxes(gt, (shape[0], shape[1]), bbox_format=\"yolo\")['pascal_voc']\n",
    "        gt = [gt[dataset.classes[idx] == i] for i in range(len(config_marker.labels))]\n",
    "        preds = [meter.preds[idx]['pascal_voc'][meter.labels[idx] == i] for i in range(len(config_marker.labels))]\n",
    "        \n",
    "#         preds = post_process_preds(preds)\n",
    "\n",
    "        for i, (t, p) in enumerate(zip(gt, preds)):\n",
    "            metrics = compute_metrics(p, t)\n",
    "            f1s[config_marker.labels[i]].append(metrics['f1_score'])\n",
    "            recalls[config_marker.labels[i]].append(metrics['recall'])\n",
    "\n",
    "    for k, v in f1s.items():\n",
    "        print(f'{k} \\t Avg F1: {np.mean(v):.3f}  \\t Avg F1==1: {np.mean(np.array(v) == 1):.3f}', end=\"\\t\")\n",
    "        print(f'Avg Recall==1: {np.mean(np.array(recalls[k]) == 1):.3f}')\n",
    "#         break\n",
    "#     break"
   ]
  },
  {
   "cell_type": "markdown",
   "metadata": {},
   "source": [
    "- point \t Avg F1: 0.938  \t Avg F1==1: 0.521\tAvg Recall==1: 0.673"
   ]
  },
  {
   "cell_type": "markdown",
   "metadata": {},
   "source": [
    "- point \t Avg F1: 0.901  \t Avg F1==1: 0.582\tAvg Recall==1: 0.673"
   ]
  },
  {
   "cell_type": "markdown",
   "metadata": {},
   "source": [
    "- point \t Avg F1: 0.947  \t Avg F1==1: 0.630\tAvg Recall==1: 0.691"
   ]
  },
  {
   "cell_type": "markdown",
   "metadata": {},
   "source": [
    "### Predict"
   ]
  },
  {
   "cell_type": "code",
   "execution_count": null,
   "metadata": {},
   "outputs": [],
   "source": [
    "df_val = df[df['split'] == \"val\"].reset_index(drop=True)\n",
    "# df_val['path'] = f'../input/{config_marker.version}/images/valid/' + df_val['id'] + '.jpg'\n",
    "df_val['path'] = f'../input/{config_marker.version}/val2017/' + df_val['id'] + '.jpg'\n",
    "df_val['gt_path'] = f'../input/{config_marker.version}/labels/valid/' + df_val['id'] + '.txt'\n",
    "\n",
    "TYPES = [\"scatter\"]\n",
    "df_val = df_val[df_val['chart-type'].isin(TYPES)].reset_index(drop=True)\n",
    "\n",
    "transforms = get_transfos(size=config_marker.size)\n",
    "dataset = InferenceDataset(df_val, transforms)"
   ]
  },
  {
   "cell_type": "code",
   "execution_count": null,
   "metadata": {},
   "outputs": [],
   "source": [
    "%%time\n",
    "meter_marker, _ = predict(model_marker, dataset, config_marker)\n",
    "\n",
    "for i, p in enumerate(meter_marker.preds):\n",
    "    p.update_shape((df_val['img_h'][i], df_val['img_w'][i]))"
   ]
  },
  {
   "cell_type": "code",
   "execution_count": null,
   "metadata": {},
   "outputs": [],
   "source": [
    "df_val = df[df['split'] == \"val\"].reset_index(drop=True)\n",
    "df_val['path'] = f'../input/{config_chart.version}/images/valid/' + df_val['id'] + '.jpg'\n",
    "# df_val['path'] = f'../input/{config_chart.version}/val2017/' + df_val['id'] + '.jpg'\n",
    "df_val['gt_path'] = f'../input/{config_chart.version}/labels/valid/' + df_val['id'] + '.txt'\n",
    "\n",
    "TYPES = [\"scatter\"]\n",
    "df_val = df_val[df_val['chart-type'].isin(TYPES)].reset_index(drop=True)\n",
    "\n",
    "transforms = get_transfos(size=config_chart.size)\n",
    "dataset = InferenceDataset(df_val, transforms)"
   ]
  },
  {
   "cell_type": "code",
   "execution_count": null,
   "metadata": {},
   "outputs": [],
   "source": [
    "%%time\n",
    "from inference.yolo import predict as predict_yolo\n",
    "\n",
    "meter_chart, _ = predict_yolo(model_chart, dataset, config_chart)\n",
    "\n",
    "for i, p in enumerate(meter_chart.preds):\n",
    "    p.update_shape((df_val['img_h'][i], df_val['img_w'][i]))"
   ]
  },
  {
   "cell_type": "markdown",
   "metadata": {},
   "source": [
    "### OCR"
   ]
  },
  {
   "cell_type": "code",
   "execution_count": null,
   "metadata": {},
   "outputs": [],
   "source": [
    "import transformers\n",
    "transformers.utils.logging.set_verbosity_error()\n",
    "\n",
    "from transformers import TrOCRProcessor\n",
    "from transformers import VisionEncoderDecoderModel\n",
    "\n",
    "from util.ocr import ocr, post_process_texts"
   ]
  },
  {
   "cell_type": "code",
   "execution_count": null,
   "metadata": {},
   "outputs": [],
   "source": [
    "# name = \"microsoft/trocr-base-stage1\"\n",
    "# processor = TrOCRProcessor.from_pretrained(name)\n",
    "# ocr_model = VisionEncoderDecoderModel.from_pretrained(name).cuda()"
   ]
  },
  {
   "cell_type": "code",
   "execution_count": null,
   "metadata": {},
   "outputs": [],
   "source": [
    "# from transformers import AutoConfig\n",
    "# config = AutoConfig.from_pretrained(name)\n",
    "# torch.save(config, \"../output/weights/ocr/config.pth\")\n",
    "\n",
    "# processor.save_pretrained(\"../output/weights/ocr/\")\n",
    "# ocr_model.save_pretrained(\"../output/weights/ocr/\")"
   ]
  },
  {
   "cell_type": "code",
   "execution_count": null,
   "metadata": {},
   "outputs": [],
   "source": [
    "# processor = TrOCRProcessor.from_pretrained(\"../output/weights/ocr/\")\n",
    "\n",
    "# config = torch.load(\"../output/weights/ocr/config.pth\")\n",
    "\n",
    "# ocr_model = VisionEncoderDecoderModel(config)\n",
    "# ocr_model.load_state_dict(torch.load('../output/weights/ocr/pytorch_model.bin'))\n",
    "\n",
    "# ocr_model = ocr_model.cuda().eval()"
   ]
  },
  {
   "cell_type": "markdown",
   "metadata": {},
   "source": [
    "### Main\n",
    "- Enforce sim between dets\n",
    "- conv sim not robust to col  (#26)\n",
    "- Make sure"
   ]
  },
  {
   "cell_type": "code",
   "execution_count": null,
   "metadata": {},
   "outputs": [],
   "source": [
    "%matplotlib inline"
   ]
  },
  {
   "cell_type": "code",
   "execution_count": null,
   "metadata": {},
   "outputs": [],
   "source": [
    "PLOT = True\n",
    "DEBUG = False"
   ]
  },
  {
   "cell_type": "code",
   "execution_count": null,
   "metadata": {},
   "outputs": [],
   "source": [
    "dataset = InferenceDataset(df_val, None)"
   ]
  },
  {
   "cell_type": "code",
   "execution_count": null,
   "metadata": {},
   "outputs": [],
   "source": [
    "TO_REMOVE = [\"513147edc8a1\", \"a7a81c55df4c\", \"039d3e82ebaf\", \"82c3706f2698\", \"6d4d21bdc9a8\", \"ca30ad3528c4\"]"
   ]
  },
  {
   "cell_type": "code",
   "execution_count": null,
   "metadata": {},
   "outputs": [],
   "source": [
    "FIXES = {\n",
    "    \"17000b60f53e\": [-2.36, -1.6, -1.3, -0.8, -0.5, 0.009, 0.416, 0.768, 1.296, 1.539, 2.027],\n",
    "    \"6d4d21bdc9a8\": [7400.0, 8100.0, 9300.0, 6300.0, 10000.0, 11800.0, 9800.0, 11700.0, 16128.0, 18823.0, 21519.0],\n",
    "}"
   ]
  },
  {
   "cell_type": "code",
   "execution_count": null,
   "metadata": {},
   "outputs": [],
   "source": [
    "seed_everything(0)\n",
    "\n",
    "scores = []\n",
    "for idx in range(len(dataset)):\n",
    "#     idx = 35  # 30\n",
    "#     DEBUG = True\n",
    "    \n",
    "    img, gt, _ = dataset[idx]\n",
    "\n",
    "    id_ = df_val.id[idx]\n",
    "    \n",
    "#     if f1s['point'][idx] == 1:\n",
    "#         continue\n",
    "\n",
    "    if id_ in TO_REMOVE:\n",
    "        continue\n",
    "\n",
    "    print(idx, id_, end=\"\\t\")\n",
    "    title = f\"{id_} - {df_val.source[idx]} {df_val['chart-type'][idx]}\"\n",
    "    \n",
    "    preds = [\n",
    "        meter_chart.preds[idx]['pascal_voc'][meter_chart.labels[idx] == i]\n",
    "        for i in range(len(config_chart.labels))\n",
    "    ]\n",
    "    preds_marker = [\n",
    "        meter_marker.preds[idx]['pascal_voc'][meter_marker.labels[idx] == i]\n",
    "        for i in range(len(config_marker.labels))\n",
    "    ]\n",
    "    confidences =  [\n",
    "        meter_marker.confidences[idx][meter_marker.labels[idx] == i]\n",
    "        for i in range(len(config_marker.labels))\n",
    "    ]\n",
    "    \n",
    "#     n = 100\n",
    "#     # Filter on size\n",
    "#     widths = preds[-1][:, 2] - preds[-1][:, 0]\n",
    "#     heights = preds[-1][:, 3] - preds[-1][:, 1]\n",
    "#     preds[-1] = preds[-1][\n",
    "#         (widths < widths[:5].mean() * 2) & (heights < heights[:5].mean() * 2)\n",
    "#     ]\n",
    "    \n",
    "#     preds[-1] = preds[-1][:n]\n",
    "#     confidences[-1] = confidences[-1][:n]\n",
    "#     plt.grid()\n",
    "#     for c in confidences:\n",
    "#         plt.plot(c, marker=\"x\", linewidth=0)\n",
    "#     plt.show()\n",
    "\n",
    "    if len(preds) == 4:  # Replace\n",
    "        preds[-1] = preds_marker[-1]\n",
    "    elif len(preds) == 3: # Append\n",
    "        preds.append(preds_marker[-1])\n",
    "    else:\n",
    "        raise NotImplementedError\n",
    "        \n",
    "#     break\n",
    "#     plot_results(img, preds, figsize=(12, 7), title=title)\n",
    "#     break\n",
    "\n",
    "    preds = post_process_preds(preds)\n",
    "    \n",
    "    if DEBUG:\n",
    "        plot_results(img, preds, figsize=(12, 7), title=title)\n",
    "\n",
    "    margin = (img.shape[0] + img.shape[1]) / (2 * 20)\n",
    "    preds = restrict_on_line(preds, margin=margin)\n",
    "\n",
    "    # Visual similarity\n",
    "    retrieved_boxes = retrieve_missing_boxes(preds, img, verbose=DEBUG, min_sim=0.85, seed=None)\n",
    "#     retrieved_boxes = retrieve_missing_boxes_2(preds, img, fts[idx], verbose=DEBUG)\n",
    "\n",
    "    if len(retrieved_boxes):\n",
    "        print('RETRIEVED', len(retrieved_boxes), end=\"\\t\")\n",
    "        preds[-1] = np.concatenate([preds[-1], retrieved_boxes])\n",
    "        \n",
    "#     outliers = remove_outlier_boxes(preds, img, verbose=DEBUG, coef=3)\n",
    "    \n",
    "#     if len(outliers):\n",
    "#         print('REMOVED', len(outliers), end=\"\\t\")\n",
    "#         preds[-1] = np.array([p for i, p in enumerate(preds[-1]) if i not in outliers])\n",
    "        \n",
    "    if PLOT or DEBUG:\n",
    "#         preds[-1] = preds[-1][:5]\n",
    "        plot_results(img, preds, figsize=(12, 7), title=title)\n",
    "\n",
    "    # OCR\n",
    "    x_texts = ocr(ocr_model, processor, img, preds[1], margin=1, plot=DEBUG)\n",
    "    x_values, x_errors = post_process_texts(x_texts)\n",
    "\n",
    "    if DEBUG:\n",
    "        print(\"x labels :\", x_values, \" - errors:\", x_errors)\n",
    "#     print(x_values)\n",
    "#     print(preds[3])\n",
    "    \n",
    "    if len(preds[-1]):\n",
    "        reg_x = linear_regression(preds[3], x_values, x_errors, preds[-1], mode=\"x\", verbose=DEBUG)\n",
    "\n",
    "        y_texts = ocr(ocr_model, processor, img, preds[2], margin=3, plot=DEBUG)\n",
    "        y_values, y_errors = post_process_texts(y_texts)\n",
    "\n",
    "        if DEBUG:\n",
    "             print(\"y labels :\", y_values, \" - errors:\", y_errors)\n",
    "\n",
    "        reg_y = linear_regression(preds[4], y_values, y_errors, preds[-1], mode=\"y\", verbose=DEBUG)\n",
    "\n",
    "        gt = df_target[df_target['id'] == id_].reset_index(drop=True)\n",
    "        gt[[\"x\", \"y\"]] = gt[[\"x\", \"y\"]].astype(float)\n",
    "        gt = gt.sort_values(['x', 'y'], ignore_index=True)\n",
    "        \n",
    "        if id_ in FIXES:\n",
    "            gt[\"y\"] = FIXES[id_]\n",
    "\n",
    "        reg_x = np.round(reg_x, rounding(np.max(reg_x)))\n",
    "        pred = pd.DataFrame({\"x\": reg_x, \"y\": reg_y})\n",
    "        pred = pred.sort_values(['x', 'y'], ignore_index=True)\n",
    "\n",
    "        score_x = score_series(gt['x'].values, pred['x'].values)\n",
    "        score_y = score_series(gt['y'].values, pred['y'].values)\n",
    "    else:\n",
    "        score_x, score_y = 0, 0\n",
    "\n",
    "    if len(retrieved_boxes):\n",
    "        print(len(pred), \"preds,\", len(gt), \"gts\")\n",
    "\n",
    "    print(f\"Scores  -  x: {score_x:.3f}  - y: {score_y:.3f}\")\n",
    "    \n",
    "    scores += [score_x, score_y]\n",
    "    \n",
    "#     if score_x == 0 and score_y == 0:\n",
    "#         plot_results(img, preds, figsize=(12, 7), title=title)\n",
    "\n",
    "    if DEBUG:\n",
    "        print(f'GT : {len(gt)}')\n",
    "#         display(gt)\n",
    "        print(f'PRED : {len(pred)}')\n",
    "#         display(pred)\n",
    "\n",
    "    if DEBUG:\n",
    "        break"
   ]
  },
  {
   "cell_type": "code",
   "execution_count": null,
   "metadata": {},
   "outputs": [],
   "source": [
    "print(f'Scatter CV : {np.mean(scores) :.3f}')"
   ]
  },
  {
   "cell_type": "markdown",
   "metadata": {},
   "source": [
    "Done ! "
   ]
  }
 ],
 "metadata": {
  "kernelspec": {
   "display_name": "Python 3 (ipykernel)",
   "language": "python",
   "name": "python3"
  },
  "language_info": {
   "codemirror_mode": {
    "name": "ipython",
    "version": 3
   },
   "file_extension": ".py",
   "mimetype": "text/x-python",
   "name": "python",
   "nbconvert_exporter": "python",
   "pygments_lexer": "ipython3",
   "version": "3.8.10"
  },
  "vscode": {
   "interpreter": {
    "hash": "f7241b2af102f7e024509099765066b36197b195077f7bfac6e5bc041ba17c8c"
   }
  }
 },
 "nbformat": 4,
 "nbformat_minor": 4
}
